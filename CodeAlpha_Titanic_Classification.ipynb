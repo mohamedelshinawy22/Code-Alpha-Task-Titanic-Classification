{
  "cells": [
    {
      "cell_type": "code",
      "execution_count": 134,
      "id": "bda3e6dd",
      "metadata": {
        "_cell_guid": "b1076dfc-b9ad-4769-8c92-a6c4dae69d19",
        "_uuid": "8f2839f25d086af736a60e9eeb907d3b93b6e0e5",
        "execution": {
          "iopub.execute_input": "2024-01-25T21:39:28.442361Z",
          "iopub.status.busy": "2024-01-25T21:39:28.441956Z",
          "iopub.status.idle": "2024-01-25T21:39:30.380991Z",
          "shell.execute_reply": "2024-01-25T21:39:30.379926Z"
        },
        "papermill": {
          "duration": 1.95356,
          "end_time": "2024-01-25T21:39:30.383274",
          "exception": false,
          "start_time": "2024-01-25T21:39:28.429714",
          "status": "completed"
        },
        "tags": [],
        "id": "bda3e6dd"
      },
      "outputs": [],
      "source": [
        "#Data_preprocssing and visulazing\n",
        "import numpy as np\n",
        "import pandas as pd\n",
        "import seaborn as sns\n",
        "import matplotlib.pyplot as plt\n",
        "\n",
        "#preprocessing\n",
        "from sklearn.impute import SimpleImputer\n",
        "from sklearn.preprocessing import OrdinalEncoder\n",
        "from sklearn.preprocessing import StandardScaler\n",
        "# models\n",
        "from sklearn.model_selection import train_test_split\n",
        "from sklearn.linear_model import LogisticRegression\n",
        "from sklearn.ensemble import RandomForestClassifier\n",
        "from sklearn.ensemble import GradientBoostingClassifier\n",
        "from sklearn.tree import DecisionTreeClassifier\n",
        "from sklearn.neighbors import KNeighborsClassifier\n",
        "from sklearn.naive_bayes import GaussianNB\n",
        "from sklearn.svm import SVC\n",
        "# metrices\n",
        "from sklearn.metrics import accuracy_score"
      ]
    },
    {
      "cell_type": "code",
      "execution_count": 135,
      "id": "af6919f7",
      "metadata": {
        "execution": {
          "iopub.execute_input": "2024-01-25T21:39:30.406363Z",
          "iopub.status.busy": "2024-01-25T21:39:30.405507Z",
          "iopub.status.idle": "2024-01-25T21:39:30.434863Z",
          "shell.execute_reply": "2024-01-25T21:39:30.433911Z"
        },
        "papermill": {
          "duration": 0.043598,
          "end_time": "2024-01-25T21:39:30.437206",
          "exception": false,
          "start_time": "2024-01-25T21:39:30.393608",
          "status": "completed"
        },
        "tags": [],
        "id": "af6919f7"
      },
      "outputs": [],
      "source": [
        "X=pd.read_csv('/content/titanic_train.csv')\n",
        "X_test = pd.read_csv('/content/test.csv')"
      ]
    },
    {
      "cell_type": "markdown",
      "id": "f807122e",
      "metadata": {
        "papermill": {
          "duration": 0.00942,
          "end_time": "2024-01-25T21:39:30.456818",
          "exception": false,
          "start_time": "2024-01-25T21:39:30.447398",
          "status": "completed"
        },
        "tags": [],
        "id": "f807122e"
      },
      "source": [
        "# Data Exploration"
      ]
    },
    {
      "cell_type": "code",
      "execution_count": 136,
      "id": "e4d76484",
      "metadata": {
        "execution": {
          "iopub.execute_input": "2024-01-25T21:39:30.478595Z",
          "iopub.status.busy": "2024-01-25T21:39:30.477734Z",
          "iopub.status.idle": "2024-01-25T21:39:30.509587Z",
          "shell.execute_reply": "2024-01-25T21:39:30.508522Z"
        },
        "papermill": {
          "duration": 0.045197,
          "end_time": "2024-01-25T21:39:30.511727",
          "exception": false,
          "start_time": "2024-01-25T21:39:30.466530",
          "status": "completed"
        },
        "tags": [],
        "colab": {
          "base_uri": "https://localhost:8080/",
          "height": 649
        },
        "id": "e4d76484",
        "outputId": "926dd6f3-bc33-47c2-deb4-980742d28c6d"
      },
      "outputs": [
        {
          "output_type": "execute_result",
          "data": {
            "text/plain": [
              "     PassengerId  Survived  Pclass  \\\n",
              "0              1         0       3   \n",
              "1              2         1       1   \n",
              "2              3         1       3   \n",
              "3              4         1       1   \n",
              "4              5         0       3   \n",
              "..           ...       ...     ...   \n",
              "886          887         0       2   \n",
              "887          888         1       1   \n",
              "888          889         0       3   \n",
              "889          890         1       1   \n",
              "890          891         0       3   \n",
              "\n",
              "                                                  Name     Sex   Age  SibSp  \\\n",
              "0                              Braund, Mr. Owen Harris    male  22.0      1   \n",
              "1    Cumings, Mrs. John Bradley (Florence Briggs Th...  female  38.0      1   \n",
              "2                               Heikkinen, Miss. Laina  female  26.0      0   \n",
              "3         Futrelle, Mrs. Jacques Heath (Lily May Peel)  female  35.0      1   \n",
              "4                             Allen, Mr. William Henry    male  35.0      0   \n",
              "..                                                 ...     ...   ...    ...   \n",
              "886                              Montvila, Rev. Juozas    male  27.0      0   \n",
              "887                       Graham, Miss. Margaret Edith  female  19.0      0   \n",
              "888           Johnston, Miss. Catherine Helen \"Carrie\"  female   NaN      1   \n",
              "889                              Behr, Mr. Karl Howell    male  26.0      0   \n",
              "890                                Dooley, Mr. Patrick    male  32.0      0   \n",
              "\n",
              "     Parch            Ticket     Fare Cabin Embarked  \n",
              "0        0         A/5 21171   7.2500   NaN        S  \n",
              "1        0          PC 17599  71.2833   C85        C  \n",
              "2        0  STON/O2. 3101282   7.9250   NaN        S  \n",
              "3        0            113803  53.1000  C123        S  \n",
              "4        0            373450   8.0500   NaN        S  \n",
              "..     ...               ...      ...   ...      ...  \n",
              "886      0            211536  13.0000   NaN        S  \n",
              "887      0            112053  30.0000   B42        S  \n",
              "888      2        W./C. 6607  23.4500   NaN        S  \n",
              "889      0            111369  30.0000  C148        C  \n",
              "890      0            370376   7.7500   NaN        Q  \n",
              "\n",
              "[891 rows x 12 columns]"
            ],
            "text/html": [
              "\n",
              "  <div id=\"df-03c3fe04-1e1e-4c1d-aefd-557afd3554b1\" class=\"colab-df-container\">\n",
              "    <div>\n",
              "<style scoped>\n",
              "    .dataframe tbody tr th:only-of-type {\n",
              "        vertical-align: middle;\n",
              "    }\n",
              "\n",
              "    .dataframe tbody tr th {\n",
              "        vertical-align: top;\n",
              "    }\n",
              "\n",
              "    .dataframe thead th {\n",
              "        text-align: right;\n",
              "    }\n",
              "</style>\n",
              "<table border=\"1\" class=\"dataframe\">\n",
              "  <thead>\n",
              "    <tr style=\"text-align: right;\">\n",
              "      <th></th>\n",
              "      <th>PassengerId</th>\n",
              "      <th>Survived</th>\n",
              "      <th>Pclass</th>\n",
              "      <th>Name</th>\n",
              "      <th>Sex</th>\n",
              "      <th>Age</th>\n",
              "      <th>SibSp</th>\n",
              "      <th>Parch</th>\n",
              "      <th>Ticket</th>\n",
              "      <th>Fare</th>\n",
              "      <th>Cabin</th>\n",
              "      <th>Embarked</th>\n",
              "    </tr>\n",
              "  </thead>\n",
              "  <tbody>\n",
              "    <tr>\n",
              "      <th>0</th>\n",
              "      <td>1</td>\n",
              "      <td>0</td>\n",
              "      <td>3</td>\n",
              "      <td>Braund, Mr. Owen Harris</td>\n",
              "      <td>male</td>\n",
              "      <td>22.0</td>\n",
              "      <td>1</td>\n",
              "      <td>0</td>\n",
              "      <td>A/5 21171</td>\n",
              "      <td>7.2500</td>\n",
              "      <td>NaN</td>\n",
              "      <td>S</td>\n",
              "    </tr>\n",
              "    <tr>\n",
              "      <th>1</th>\n",
              "      <td>2</td>\n",
              "      <td>1</td>\n",
              "      <td>1</td>\n",
              "      <td>Cumings, Mrs. John Bradley (Florence Briggs Th...</td>\n",
              "      <td>female</td>\n",
              "      <td>38.0</td>\n",
              "      <td>1</td>\n",
              "      <td>0</td>\n",
              "      <td>PC 17599</td>\n",
              "      <td>71.2833</td>\n",
              "      <td>C85</td>\n",
              "      <td>C</td>\n",
              "    </tr>\n",
              "    <tr>\n",
              "      <th>2</th>\n",
              "      <td>3</td>\n",
              "      <td>1</td>\n",
              "      <td>3</td>\n",
              "      <td>Heikkinen, Miss. Laina</td>\n",
              "      <td>female</td>\n",
              "      <td>26.0</td>\n",
              "      <td>0</td>\n",
              "      <td>0</td>\n",
              "      <td>STON/O2. 3101282</td>\n",
              "      <td>7.9250</td>\n",
              "      <td>NaN</td>\n",
              "      <td>S</td>\n",
              "    </tr>\n",
              "    <tr>\n",
              "      <th>3</th>\n",
              "      <td>4</td>\n",
              "      <td>1</td>\n",
              "      <td>1</td>\n",
              "      <td>Futrelle, Mrs. Jacques Heath (Lily May Peel)</td>\n",
              "      <td>female</td>\n",
              "      <td>35.0</td>\n",
              "      <td>1</td>\n",
              "      <td>0</td>\n",
              "      <td>113803</td>\n",
              "      <td>53.1000</td>\n",
              "      <td>C123</td>\n",
              "      <td>S</td>\n",
              "    </tr>\n",
              "    <tr>\n",
              "      <th>4</th>\n",
              "      <td>5</td>\n",
              "      <td>0</td>\n",
              "      <td>3</td>\n",
              "      <td>Allen, Mr. William Henry</td>\n",
              "      <td>male</td>\n",
              "      <td>35.0</td>\n",
              "      <td>0</td>\n",
              "      <td>0</td>\n",
              "      <td>373450</td>\n",
              "      <td>8.0500</td>\n",
              "      <td>NaN</td>\n",
              "      <td>S</td>\n",
              "    </tr>\n",
              "    <tr>\n",
              "      <th>...</th>\n",
              "      <td>...</td>\n",
              "      <td>...</td>\n",
              "      <td>...</td>\n",
              "      <td>...</td>\n",
              "      <td>...</td>\n",
              "      <td>...</td>\n",
              "      <td>...</td>\n",
              "      <td>...</td>\n",
              "      <td>...</td>\n",
              "      <td>...</td>\n",
              "      <td>...</td>\n",
              "      <td>...</td>\n",
              "    </tr>\n",
              "    <tr>\n",
              "      <th>886</th>\n",
              "      <td>887</td>\n",
              "      <td>0</td>\n",
              "      <td>2</td>\n",
              "      <td>Montvila, Rev. Juozas</td>\n",
              "      <td>male</td>\n",
              "      <td>27.0</td>\n",
              "      <td>0</td>\n",
              "      <td>0</td>\n",
              "      <td>211536</td>\n",
              "      <td>13.0000</td>\n",
              "      <td>NaN</td>\n",
              "      <td>S</td>\n",
              "    </tr>\n",
              "    <tr>\n",
              "      <th>887</th>\n",
              "      <td>888</td>\n",
              "      <td>1</td>\n",
              "      <td>1</td>\n",
              "      <td>Graham, Miss. Margaret Edith</td>\n",
              "      <td>female</td>\n",
              "      <td>19.0</td>\n",
              "      <td>0</td>\n",
              "      <td>0</td>\n",
              "      <td>112053</td>\n",
              "      <td>30.0000</td>\n",
              "      <td>B42</td>\n",
              "      <td>S</td>\n",
              "    </tr>\n",
              "    <tr>\n",
              "      <th>888</th>\n",
              "      <td>889</td>\n",
              "      <td>0</td>\n",
              "      <td>3</td>\n",
              "      <td>Johnston, Miss. Catherine Helen \"Carrie\"</td>\n",
              "      <td>female</td>\n",
              "      <td>NaN</td>\n",
              "      <td>1</td>\n",
              "      <td>2</td>\n",
              "      <td>W./C. 6607</td>\n",
              "      <td>23.4500</td>\n",
              "      <td>NaN</td>\n",
              "      <td>S</td>\n",
              "    </tr>\n",
              "    <tr>\n",
              "      <th>889</th>\n",
              "      <td>890</td>\n",
              "      <td>1</td>\n",
              "      <td>1</td>\n",
              "      <td>Behr, Mr. Karl Howell</td>\n",
              "      <td>male</td>\n",
              "      <td>26.0</td>\n",
              "      <td>0</td>\n",
              "      <td>0</td>\n",
              "      <td>111369</td>\n",
              "      <td>30.0000</td>\n",
              "      <td>C148</td>\n",
              "      <td>C</td>\n",
              "    </tr>\n",
              "    <tr>\n",
              "      <th>890</th>\n",
              "      <td>891</td>\n",
              "      <td>0</td>\n",
              "      <td>3</td>\n",
              "      <td>Dooley, Mr. Patrick</td>\n",
              "      <td>male</td>\n",
              "      <td>32.0</td>\n",
              "      <td>0</td>\n",
              "      <td>0</td>\n",
              "      <td>370376</td>\n",
              "      <td>7.7500</td>\n",
              "      <td>NaN</td>\n",
              "      <td>Q</td>\n",
              "    </tr>\n",
              "  </tbody>\n",
              "</table>\n",
              "<p>891 rows × 12 columns</p>\n",
              "</div>\n",
              "    <div class=\"colab-df-buttons\">\n",
              "\n",
              "  <div class=\"colab-df-container\">\n",
              "    <button class=\"colab-df-convert\" onclick=\"convertToInteractive('df-03c3fe04-1e1e-4c1d-aefd-557afd3554b1')\"\n",
              "            title=\"Convert this dataframe to an interactive table.\"\n",
              "            style=\"display:none;\">\n",
              "\n",
              "  <svg xmlns=\"http://www.w3.org/2000/svg\" height=\"24px\" viewBox=\"0 -960 960 960\">\n",
              "    <path d=\"M120-120v-720h720v720H120Zm60-500h600v-160H180v160Zm220 220h160v-160H400v160Zm0 220h160v-160H400v160ZM180-400h160v-160H180v160Zm440 0h160v-160H620v160ZM180-180h160v-160H180v160Zm440 0h160v-160H620v160Z\"/>\n",
              "  </svg>\n",
              "    </button>\n",
              "\n",
              "  <style>\n",
              "    .colab-df-container {\n",
              "      display:flex;\n",
              "      gap: 12px;\n",
              "    }\n",
              "\n",
              "    .colab-df-convert {\n",
              "      background-color: #E8F0FE;\n",
              "      border: none;\n",
              "      border-radius: 50%;\n",
              "      cursor: pointer;\n",
              "      display: none;\n",
              "      fill: #1967D2;\n",
              "      height: 32px;\n",
              "      padding: 0 0 0 0;\n",
              "      width: 32px;\n",
              "    }\n",
              "\n",
              "    .colab-df-convert:hover {\n",
              "      background-color: #E2EBFA;\n",
              "      box-shadow: 0px 1px 2px rgba(60, 64, 67, 0.3), 0px 1px 3px 1px rgba(60, 64, 67, 0.15);\n",
              "      fill: #174EA6;\n",
              "    }\n",
              "\n",
              "    .colab-df-buttons div {\n",
              "      margin-bottom: 4px;\n",
              "    }\n",
              "\n",
              "    [theme=dark] .colab-df-convert {\n",
              "      background-color: #3B4455;\n",
              "      fill: #D2E3FC;\n",
              "    }\n",
              "\n",
              "    [theme=dark] .colab-df-convert:hover {\n",
              "      background-color: #434B5C;\n",
              "      box-shadow: 0px 1px 3px 1px rgba(0, 0, 0, 0.15);\n",
              "      filter: drop-shadow(0px 1px 2px rgba(0, 0, 0, 0.3));\n",
              "      fill: #FFFFFF;\n",
              "    }\n",
              "  </style>\n",
              "\n",
              "    <script>\n",
              "      const buttonEl =\n",
              "        document.querySelector('#df-03c3fe04-1e1e-4c1d-aefd-557afd3554b1 button.colab-df-convert');\n",
              "      buttonEl.style.display =\n",
              "        google.colab.kernel.accessAllowed ? 'block' : 'none';\n",
              "\n",
              "      async function convertToInteractive(key) {\n",
              "        const element = document.querySelector('#df-03c3fe04-1e1e-4c1d-aefd-557afd3554b1');\n",
              "        const dataTable =\n",
              "          await google.colab.kernel.invokeFunction('convertToInteractive',\n",
              "                                                    [key], {});\n",
              "        if (!dataTable) return;\n",
              "\n",
              "        const docLinkHtml = 'Like what you see? Visit the ' +\n",
              "          '<a target=\"_blank\" href=https://colab.research.google.com/notebooks/data_table.ipynb>data table notebook</a>'\n",
              "          + ' to learn more about interactive tables.';\n",
              "        element.innerHTML = '';\n",
              "        dataTable['output_type'] = 'display_data';\n",
              "        await google.colab.output.renderOutput(dataTable, element);\n",
              "        const docLink = document.createElement('div');\n",
              "        docLink.innerHTML = docLinkHtml;\n",
              "        element.appendChild(docLink);\n",
              "      }\n",
              "    </script>\n",
              "  </div>\n",
              "\n",
              "\n",
              "<div id=\"df-7540b2d5-c807-40cd-8c39-18e47f72bff3\">\n",
              "  <button class=\"colab-df-quickchart\" onclick=\"quickchart('df-7540b2d5-c807-40cd-8c39-18e47f72bff3')\"\n",
              "            title=\"Suggest charts\"\n",
              "            style=\"display:none;\">\n",
              "\n",
              "<svg xmlns=\"http://www.w3.org/2000/svg\" height=\"24px\"viewBox=\"0 0 24 24\"\n",
              "     width=\"24px\">\n",
              "    <g>\n",
              "        <path d=\"M19 3H5c-1.1 0-2 .9-2 2v14c0 1.1.9 2 2 2h14c1.1 0 2-.9 2-2V5c0-1.1-.9-2-2-2zM9 17H7v-7h2v7zm4 0h-2V7h2v10zm4 0h-2v-4h2v4z\"/>\n",
              "    </g>\n",
              "</svg>\n",
              "  </button>\n",
              "\n",
              "<style>\n",
              "  .colab-df-quickchart {\n",
              "      --bg-color: #E8F0FE;\n",
              "      --fill-color: #1967D2;\n",
              "      --hover-bg-color: #E2EBFA;\n",
              "      --hover-fill-color: #174EA6;\n",
              "      --disabled-fill-color: #AAA;\n",
              "      --disabled-bg-color: #DDD;\n",
              "  }\n",
              "\n",
              "  [theme=dark] .colab-df-quickchart {\n",
              "      --bg-color: #3B4455;\n",
              "      --fill-color: #D2E3FC;\n",
              "      --hover-bg-color: #434B5C;\n",
              "      --hover-fill-color: #FFFFFF;\n",
              "      --disabled-bg-color: #3B4455;\n",
              "      --disabled-fill-color: #666;\n",
              "  }\n",
              "\n",
              "  .colab-df-quickchart {\n",
              "    background-color: var(--bg-color);\n",
              "    border: none;\n",
              "    border-radius: 50%;\n",
              "    cursor: pointer;\n",
              "    display: none;\n",
              "    fill: var(--fill-color);\n",
              "    height: 32px;\n",
              "    padding: 0;\n",
              "    width: 32px;\n",
              "  }\n",
              "\n",
              "  .colab-df-quickchart:hover {\n",
              "    background-color: var(--hover-bg-color);\n",
              "    box-shadow: 0 1px 2px rgba(60, 64, 67, 0.3), 0 1px 3px 1px rgba(60, 64, 67, 0.15);\n",
              "    fill: var(--button-hover-fill-color);\n",
              "  }\n",
              "\n",
              "  .colab-df-quickchart-complete:disabled,\n",
              "  .colab-df-quickchart-complete:disabled:hover {\n",
              "    background-color: var(--disabled-bg-color);\n",
              "    fill: var(--disabled-fill-color);\n",
              "    box-shadow: none;\n",
              "  }\n",
              "\n",
              "  .colab-df-spinner {\n",
              "    border: 2px solid var(--fill-color);\n",
              "    border-color: transparent;\n",
              "    border-bottom-color: var(--fill-color);\n",
              "    animation:\n",
              "      spin 1s steps(1) infinite;\n",
              "  }\n",
              "\n",
              "  @keyframes spin {\n",
              "    0% {\n",
              "      border-color: transparent;\n",
              "      border-bottom-color: var(--fill-color);\n",
              "      border-left-color: var(--fill-color);\n",
              "    }\n",
              "    20% {\n",
              "      border-color: transparent;\n",
              "      border-left-color: var(--fill-color);\n",
              "      border-top-color: var(--fill-color);\n",
              "    }\n",
              "    30% {\n",
              "      border-color: transparent;\n",
              "      border-left-color: var(--fill-color);\n",
              "      border-top-color: var(--fill-color);\n",
              "      border-right-color: var(--fill-color);\n",
              "    }\n",
              "    40% {\n",
              "      border-color: transparent;\n",
              "      border-right-color: var(--fill-color);\n",
              "      border-top-color: var(--fill-color);\n",
              "    }\n",
              "    60% {\n",
              "      border-color: transparent;\n",
              "      border-right-color: var(--fill-color);\n",
              "    }\n",
              "    80% {\n",
              "      border-color: transparent;\n",
              "      border-right-color: var(--fill-color);\n",
              "      border-bottom-color: var(--fill-color);\n",
              "    }\n",
              "    90% {\n",
              "      border-color: transparent;\n",
              "      border-bottom-color: var(--fill-color);\n",
              "    }\n",
              "  }\n",
              "</style>\n",
              "\n",
              "  <script>\n",
              "    async function quickchart(key) {\n",
              "      const quickchartButtonEl =\n",
              "        document.querySelector('#' + key + ' button');\n",
              "      quickchartButtonEl.disabled = true;  // To prevent multiple clicks.\n",
              "      quickchartButtonEl.classList.add('colab-df-spinner');\n",
              "      try {\n",
              "        const charts = await google.colab.kernel.invokeFunction(\n",
              "            'suggestCharts', [key], {});\n",
              "      } catch (error) {\n",
              "        console.error('Error during call to suggestCharts:', error);\n",
              "      }\n",
              "      quickchartButtonEl.classList.remove('colab-df-spinner');\n",
              "      quickchartButtonEl.classList.add('colab-df-quickchart-complete');\n",
              "    }\n",
              "    (() => {\n",
              "      let quickchartButtonEl =\n",
              "        document.querySelector('#df-7540b2d5-c807-40cd-8c39-18e47f72bff3 button');\n",
              "      quickchartButtonEl.style.display =\n",
              "        google.colab.kernel.accessAllowed ? 'block' : 'none';\n",
              "    })();\n",
              "  </script>\n",
              "</div>\n",
              "\n",
              "  <div id=\"id_20527b55-0bd0-429e-9754-bdc5e841b901\">\n",
              "    <style>\n",
              "      .colab-df-generate {\n",
              "        background-color: #E8F0FE;\n",
              "        border: none;\n",
              "        border-radius: 50%;\n",
              "        cursor: pointer;\n",
              "        display: none;\n",
              "        fill: #1967D2;\n",
              "        height: 32px;\n",
              "        padding: 0 0 0 0;\n",
              "        width: 32px;\n",
              "      }\n",
              "\n",
              "      .colab-df-generate:hover {\n",
              "        background-color: #E2EBFA;\n",
              "        box-shadow: 0px 1px 2px rgba(60, 64, 67, 0.3), 0px 1px 3px 1px rgba(60, 64, 67, 0.15);\n",
              "        fill: #174EA6;\n",
              "      }\n",
              "\n",
              "      [theme=dark] .colab-df-generate {\n",
              "        background-color: #3B4455;\n",
              "        fill: #D2E3FC;\n",
              "      }\n",
              "\n",
              "      [theme=dark] .colab-df-generate:hover {\n",
              "        background-color: #434B5C;\n",
              "        box-shadow: 0px 1px 3px 1px rgba(0, 0, 0, 0.15);\n",
              "        filter: drop-shadow(0px 1px 2px rgba(0, 0, 0, 0.3));\n",
              "        fill: #FFFFFF;\n",
              "      }\n",
              "    </style>\n",
              "    <button class=\"colab-df-generate\" onclick=\"generateWithVariable('X')\"\n",
              "            title=\"Generate code using this dataframe.\"\n",
              "            style=\"display:none;\">\n",
              "\n",
              "  <svg xmlns=\"http://www.w3.org/2000/svg\" height=\"24px\"viewBox=\"0 0 24 24\"\n",
              "       width=\"24px\">\n",
              "    <path d=\"M7,19H8.4L18.45,9,17,7.55,7,17.6ZM5,21V16.75L18.45,3.32a2,2,0,0,1,2.83,0l1.4,1.43a1.91,1.91,0,0,1,.58,1.4,1.91,1.91,0,0,1-.58,1.4L9.25,21ZM18.45,9,17,7.55Zm-12,3A5.31,5.31,0,0,0,4.9,8.1,5.31,5.31,0,0,0,1,6.5,5.31,5.31,0,0,0,4.9,4.9,5.31,5.31,0,0,0,6.5,1,5.31,5.31,0,0,0,8.1,4.9,5.31,5.31,0,0,0,12,6.5,5.46,5.46,0,0,0,6.5,12Z\"/>\n",
              "  </svg>\n",
              "    </button>\n",
              "    <script>\n",
              "      (() => {\n",
              "      const buttonEl =\n",
              "        document.querySelector('#id_20527b55-0bd0-429e-9754-bdc5e841b901 button.colab-df-generate');\n",
              "      buttonEl.style.display =\n",
              "        google.colab.kernel.accessAllowed ? 'block' : 'none';\n",
              "\n",
              "      buttonEl.onclick = () => {\n",
              "        google.colab.notebook.generateWithVariable('X');\n",
              "      }\n",
              "      })();\n",
              "    </script>\n",
              "  </div>\n",
              "\n",
              "    </div>\n",
              "  </div>\n"
            ],
            "application/vnd.google.colaboratory.intrinsic+json": {
              "type": "dataframe",
              "variable_name": "X",
              "summary": "{\n  \"name\": \"X\",\n  \"rows\": 891,\n  \"fields\": [\n    {\n      \"column\": \"PassengerId\",\n      \"properties\": {\n        \"dtype\": \"number\",\n        \"std\": 257,\n        \"min\": 1,\n        \"max\": 891,\n        \"num_unique_values\": 891,\n        \"samples\": [\n          710,\n          440,\n          841\n        ],\n        \"semantic_type\": \"\",\n        \"description\": \"\"\n      }\n    },\n    {\n      \"column\": \"Survived\",\n      \"properties\": {\n        \"dtype\": \"number\",\n        \"std\": 0,\n        \"min\": 0,\n        \"max\": 1,\n        \"num_unique_values\": 2,\n        \"samples\": [\n          1,\n          0\n        ],\n        \"semantic_type\": \"\",\n        \"description\": \"\"\n      }\n    },\n    {\n      \"column\": \"Pclass\",\n      \"properties\": {\n        \"dtype\": \"number\",\n        \"std\": 0,\n        \"min\": 1,\n        \"max\": 3,\n        \"num_unique_values\": 3,\n        \"samples\": [\n          3,\n          1\n        ],\n        \"semantic_type\": \"\",\n        \"description\": \"\"\n      }\n    },\n    {\n      \"column\": \"Name\",\n      \"properties\": {\n        \"dtype\": \"string\",\n        \"num_unique_values\": 891,\n        \"samples\": [\n          \"Moubarek, Master. Halim Gonios (\\\"William George\\\")\",\n          \"Kvillner, Mr. Johan Henrik Johannesson\"\n        ],\n        \"semantic_type\": \"\",\n        \"description\": \"\"\n      }\n    },\n    {\n      \"column\": \"Sex\",\n      \"properties\": {\n        \"dtype\": \"category\",\n        \"num_unique_values\": 2,\n        \"samples\": [\n          \"female\",\n          \"male\"\n        ],\n        \"semantic_type\": \"\",\n        \"description\": \"\"\n      }\n    },\n    {\n      \"column\": \"Age\",\n      \"properties\": {\n        \"dtype\": \"number\",\n        \"std\": 14.526497332334042,\n        \"min\": 0.42,\n        \"max\": 80.0,\n        \"num_unique_values\": 88,\n        \"samples\": [\n          0.75,\n          22.0\n        ],\n        \"semantic_type\": \"\",\n        \"description\": \"\"\n      }\n    },\n    {\n      \"column\": \"SibSp\",\n      \"properties\": {\n        \"dtype\": \"number\",\n        \"std\": 1,\n        \"min\": 0,\n        \"max\": 8,\n        \"num_unique_values\": 7,\n        \"samples\": [\n          1,\n          0\n        ],\n        \"semantic_type\": \"\",\n        \"description\": \"\"\n      }\n    },\n    {\n      \"column\": \"Parch\",\n      \"properties\": {\n        \"dtype\": \"number\",\n        \"std\": 0,\n        \"min\": 0,\n        \"max\": 6,\n        \"num_unique_values\": 7,\n        \"samples\": [\n          0,\n          1\n        ],\n        \"semantic_type\": \"\",\n        \"description\": \"\"\n      }\n    },\n    {\n      \"column\": \"Ticket\",\n      \"properties\": {\n        \"dtype\": \"string\",\n        \"num_unique_values\": 681,\n        \"samples\": [\n          \"11774\",\n          \"248740\"\n        ],\n        \"semantic_type\": \"\",\n        \"description\": \"\"\n      }\n    },\n    {\n      \"column\": \"Fare\",\n      \"properties\": {\n        \"dtype\": \"number\",\n        \"std\": 49.6934285971809,\n        \"min\": 0.0,\n        \"max\": 512.3292,\n        \"num_unique_values\": 248,\n        \"samples\": [\n          11.2417,\n          51.8625\n        ],\n        \"semantic_type\": \"\",\n        \"description\": \"\"\n      }\n    },\n    {\n      \"column\": \"Cabin\",\n      \"properties\": {\n        \"dtype\": \"category\",\n        \"num_unique_values\": 147,\n        \"samples\": [\n          \"D45\",\n          \"B49\"\n        ],\n        \"semantic_type\": \"\",\n        \"description\": \"\"\n      }\n    },\n    {\n      \"column\": \"Embarked\",\n      \"properties\": {\n        \"dtype\": \"category\",\n        \"num_unique_values\": 3,\n        \"samples\": [\n          \"S\",\n          \"C\"\n        ],\n        \"semantic_type\": \"\",\n        \"description\": \"\"\n      }\n    }\n  ]\n}"
            }
          },
          "metadata": {},
          "execution_count": 136
        }
      ],
      "source": [
        "X"
      ]
    },
    {
      "cell_type": "code",
      "execution_count": 137,
      "id": "7c9d8644",
      "metadata": {
        "execution": {
          "iopub.execute_input": "2024-01-25T21:39:30.536500Z",
          "iopub.status.busy": "2024-01-25T21:39:30.536168Z",
          "iopub.status.idle": "2024-01-25T21:39:30.554158Z",
          "shell.execute_reply": "2024-01-25T21:39:30.553052Z"
        },
        "papermill": {
          "duration": 0.032557,
          "end_time": "2024-01-25T21:39:30.555939",
          "exception": false,
          "start_time": "2024-01-25T21:39:30.523382",
          "status": "completed"
        },
        "tags": [],
        "colab": {
          "base_uri": "https://localhost:8080/",
          "height": 444
        },
        "id": "7c9d8644",
        "outputId": "d119d5de-6b7f-4371-aa31-28f6cc0f2787"
      },
      "outputs": [
        {
          "output_type": "execute_result",
          "data": {
            "text/plain": [
              "        Id  MSSubClass MSZoning  LotFrontage  LotArea Street Alley LotShape  \\\n",
              "0     1461          20       RH         80.0    11622   Pave   NaN      Reg   \n",
              "1     1462          20       RL         81.0    14267   Pave   NaN      IR1   \n",
              "2     1463          60       RL         74.0    13830   Pave   NaN      IR1   \n",
              "3     1464          60       RL         78.0     9978   Pave   NaN      IR1   \n",
              "4     1465         120       RL         43.0     5005   Pave   NaN      IR1   \n",
              "...    ...         ...      ...          ...      ...    ...   ...      ...   \n",
              "1454  2915         160       RM         21.0     1936   Pave   NaN      Reg   \n",
              "1455  2916         160       RM         21.0     1894   Pave   NaN      Reg   \n",
              "1456  2917          20       RL        160.0    20000   Pave   NaN      Reg   \n",
              "1457  2918          85       RL         62.0    10441   Pave   NaN      Reg   \n",
              "1458  2919          60       RL         74.0     9627   Pave   NaN      Reg   \n",
              "\n",
              "     LandContour Utilities  ... ScreenPorch PoolArea PoolQC  Fence  \\\n",
              "0            Lvl    AllPub  ...         120        0    NaN  MnPrv   \n",
              "1            Lvl    AllPub  ...           0        0    NaN    NaN   \n",
              "2            Lvl    AllPub  ...           0        0    NaN  MnPrv   \n",
              "3            Lvl    AllPub  ...           0        0    NaN    NaN   \n",
              "4            HLS    AllPub  ...         144        0    NaN    NaN   \n",
              "...          ...       ...  ...         ...      ...    ...    ...   \n",
              "1454         Lvl    AllPub  ...           0        0    NaN    NaN   \n",
              "1455         Lvl    AllPub  ...           0        0    NaN    NaN   \n",
              "1456         Lvl    AllPub  ...           0        0    NaN    NaN   \n",
              "1457         Lvl    AllPub  ...           0        0    NaN  MnPrv   \n",
              "1458         Lvl    AllPub  ...           0        0    NaN    NaN   \n",
              "\n",
              "     MiscFeature MiscVal MoSold  YrSold  SaleType  SaleCondition  \n",
              "0            NaN       0      6    2010        WD         Normal  \n",
              "1           Gar2   12500      6    2010        WD         Normal  \n",
              "2            NaN       0      3    2010        WD         Normal  \n",
              "3            NaN       0      6    2010        WD         Normal  \n",
              "4            NaN       0      1    2010        WD         Normal  \n",
              "...          ...     ...    ...     ...       ...            ...  \n",
              "1454         NaN       0      6    2006        WD         Normal  \n",
              "1455         NaN       0      4    2006        WD        Abnorml  \n",
              "1456         NaN       0      9    2006        WD        Abnorml  \n",
              "1457        Shed     700      7    2006        WD         Normal  \n",
              "1458         NaN       0     11    2006        WD         Normal  \n",
              "\n",
              "[1459 rows x 80 columns]"
            ],
            "text/html": [
              "\n",
              "  <div id=\"df-2398d673-36a5-4193-95b1-ffd8b0a0ddee\" class=\"colab-df-container\">\n",
              "    <div>\n",
              "<style scoped>\n",
              "    .dataframe tbody tr th:only-of-type {\n",
              "        vertical-align: middle;\n",
              "    }\n",
              "\n",
              "    .dataframe tbody tr th {\n",
              "        vertical-align: top;\n",
              "    }\n",
              "\n",
              "    .dataframe thead th {\n",
              "        text-align: right;\n",
              "    }\n",
              "</style>\n",
              "<table border=\"1\" class=\"dataframe\">\n",
              "  <thead>\n",
              "    <tr style=\"text-align: right;\">\n",
              "      <th></th>\n",
              "      <th>Id</th>\n",
              "      <th>MSSubClass</th>\n",
              "      <th>MSZoning</th>\n",
              "      <th>LotFrontage</th>\n",
              "      <th>LotArea</th>\n",
              "      <th>Street</th>\n",
              "      <th>Alley</th>\n",
              "      <th>LotShape</th>\n",
              "      <th>LandContour</th>\n",
              "      <th>Utilities</th>\n",
              "      <th>...</th>\n",
              "      <th>ScreenPorch</th>\n",
              "      <th>PoolArea</th>\n",
              "      <th>PoolQC</th>\n",
              "      <th>Fence</th>\n",
              "      <th>MiscFeature</th>\n",
              "      <th>MiscVal</th>\n",
              "      <th>MoSold</th>\n",
              "      <th>YrSold</th>\n",
              "      <th>SaleType</th>\n",
              "      <th>SaleCondition</th>\n",
              "    </tr>\n",
              "  </thead>\n",
              "  <tbody>\n",
              "    <tr>\n",
              "      <th>0</th>\n",
              "      <td>1461</td>\n",
              "      <td>20</td>\n",
              "      <td>RH</td>\n",
              "      <td>80.0</td>\n",
              "      <td>11622</td>\n",
              "      <td>Pave</td>\n",
              "      <td>NaN</td>\n",
              "      <td>Reg</td>\n",
              "      <td>Lvl</td>\n",
              "      <td>AllPub</td>\n",
              "      <td>...</td>\n",
              "      <td>120</td>\n",
              "      <td>0</td>\n",
              "      <td>NaN</td>\n",
              "      <td>MnPrv</td>\n",
              "      <td>NaN</td>\n",
              "      <td>0</td>\n",
              "      <td>6</td>\n",
              "      <td>2010</td>\n",
              "      <td>WD</td>\n",
              "      <td>Normal</td>\n",
              "    </tr>\n",
              "    <tr>\n",
              "      <th>1</th>\n",
              "      <td>1462</td>\n",
              "      <td>20</td>\n",
              "      <td>RL</td>\n",
              "      <td>81.0</td>\n",
              "      <td>14267</td>\n",
              "      <td>Pave</td>\n",
              "      <td>NaN</td>\n",
              "      <td>IR1</td>\n",
              "      <td>Lvl</td>\n",
              "      <td>AllPub</td>\n",
              "      <td>...</td>\n",
              "      <td>0</td>\n",
              "      <td>0</td>\n",
              "      <td>NaN</td>\n",
              "      <td>NaN</td>\n",
              "      <td>Gar2</td>\n",
              "      <td>12500</td>\n",
              "      <td>6</td>\n",
              "      <td>2010</td>\n",
              "      <td>WD</td>\n",
              "      <td>Normal</td>\n",
              "    </tr>\n",
              "    <tr>\n",
              "      <th>2</th>\n",
              "      <td>1463</td>\n",
              "      <td>60</td>\n",
              "      <td>RL</td>\n",
              "      <td>74.0</td>\n",
              "      <td>13830</td>\n",
              "      <td>Pave</td>\n",
              "      <td>NaN</td>\n",
              "      <td>IR1</td>\n",
              "      <td>Lvl</td>\n",
              "      <td>AllPub</td>\n",
              "      <td>...</td>\n",
              "      <td>0</td>\n",
              "      <td>0</td>\n",
              "      <td>NaN</td>\n",
              "      <td>MnPrv</td>\n",
              "      <td>NaN</td>\n",
              "      <td>0</td>\n",
              "      <td>3</td>\n",
              "      <td>2010</td>\n",
              "      <td>WD</td>\n",
              "      <td>Normal</td>\n",
              "    </tr>\n",
              "    <tr>\n",
              "      <th>3</th>\n",
              "      <td>1464</td>\n",
              "      <td>60</td>\n",
              "      <td>RL</td>\n",
              "      <td>78.0</td>\n",
              "      <td>9978</td>\n",
              "      <td>Pave</td>\n",
              "      <td>NaN</td>\n",
              "      <td>IR1</td>\n",
              "      <td>Lvl</td>\n",
              "      <td>AllPub</td>\n",
              "      <td>...</td>\n",
              "      <td>0</td>\n",
              "      <td>0</td>\n",
              "      <td>NaN</td>\n",
              "      <td>NaN</td>\n",
              "      <td>NaN</td>\n",
              "      <td>0</td>\n",
              "      <td>6</td>\n",
              "      <td>2010</td>\n",
              "      <td>WD</td>\n",
              "      <td>Normal</td>\n",
              "    </tr>\n",
              "    <tr>\n",
              "      <th>4</th>\n",
              "      <td>1465</td>\n",
              "      <td>120</td>\n",
              "      <td>RL</td>\n",
              "      <td>43.0</td>\n",
              "      <td>5005</td>\n",
              "      <td>Pave</td>\n",
              "      <td>NaN</td>\n",
              "      <td>IR1</td>\n",
              "      <td>HLS</td>\n",
              "      <td>AllPub</td>\n",
              "      <td>...</td>\n",
              "      <td>144</td>\n",
              "      <td>0</td>\n",
              "      <td>NaN</td>\n",
              "      <td>NaN</td>\n",
              "      <td>NaN</td>\n",
              "      <td>0</td>\n",
              "      <td>1</td>\n",
              "      <td>2010</td>\n",
              "      <td>WD</td>\n",
              "      <td>Normal</td>\n",
              "    </tr>\n",
              "    <tr>\n",
              "      <th>...</th>\n",
              "      <td>...</td>\n",
              "      <td>...</td>\n",
              "      <td>...</td>\n",
              "      <td>...</td>\n",
              "      <td>...</td>\n",
              "      <td>...</td>\n",
              "      <td>...</td>\n",
              "      <td>...</td>\n",
              "      <td>...</td>\n",
              "      <td>...</td>\n",
              "      <td>...</td>\n",
              "      <td>...</td>\n",
              "      <td>...</td>\n",
              "      <td>...</td>\n",
              "      <td>...</td>\n",
              "      <td>...</td>\n",
              "      <td>...</td>\n",
              "      <td>...</td>\n",
              "      <td>...</td>\n",
              "      <td>...</td>\n",
              "      <td>...</td>\n",
              "    </tr>\n",
              "    <tr>\n",
              "      <th>1454</th>\n",
              "      <td>2915</td>\n",
              "      <td>160</td>\n",
              "      <td>RM</td>\n",
              "      <td>21.0</td>\n",
              "      <td>1936</td>\n",
              "      <td>Pave</td>\n",
              "      <td>NaN</td>\n",
              "      <td>Reg</td>\n",
              "      <td>Lvl</td>\n",
              "      <td>AllPub</td>\n",
              "      <td>...</td>\n",
              "      <td>0</td>\n",
              "      <td>0</td>\n",
              "      <td>NaN</td>\n",
              "      <td>NaN</td>\n",
              "      <td>NaN</td>\n",
              "      <td>0</td>\n",
              "      <td>6</td>\n",
              "      <td>2006</td>\n",
              "      <td>WD</td>\n",
              "      <td>Normal</td>\n",
              "    </tr>\n",
              "    <tr>\n",
              "      <th>1455</th>\n",
              "      <td>2916</td>\n",
              "      <td>160</td>\n",
              "      <td>RM</td>\n",
              "      <td>21.0</td>\n",
              "      <td>1894</td>\n",
              "      <td>Pave</td>\n",
              "      <td>NaN</td>\n",
              "      <td>Reg</td>\n",
              "      <td>Lvl</td>\n",
              "      <td>AllPub</td>\n",
              "      <td>...</td>\n",
              "      <td>0</td>\n",
              "      <td>0</td>\n",
              "      <td>NaN</td>\n",
              "      <td>NaN</td>\n",
              "      <td>NaN</td>\n",
              "      <td>0</td>\n",
              "      <td>4</td>\n",
              "      <td>2006</td>\n",
              "      <td>WD</td>\n",
              "      <td>Abnorml</td>\n",
              "    </tr>\n",
              "    <tr>\n",
              "      <th>1456</th>\n",
              "      <td>2917</td>\n",
              "      <td>20</td>\n",
              "      <td>RL</td>\n",
              "      <td>160.0</td>\n",
              "      <td>20000</td>\n",
              "      <td>Pave</td>\n",
              "      <td>NaN</td>\n",
              "      <td>Reg</td>\n",
              "      <td>Lvl</td>\n",
              "      <td>AllPub</td>\n",
              "      <td>...</td>\n",
              "      <td>0</td>\n",
              "      <td>0</td>\n",
              "      <td>NaN</td>\n",
              "      <td>NaN</td>\n",
              "      <td>NaN</td>\n",
              "      <td>0</td>\n",
              "      <td>9</td>\n",
              "      <td>2006</td>\n",
              "      <td>WD</td>\n",
              "      <td>Abnorml</td>\n",
              "    </tr>\n",
              "    <tr>\n",
              "      <th>1457</th>\n",
              "      <td>2918</td>\n",
              "      <td>85</td>\n",
              "      <td>RL</td>\n",
              "      <td>62.0</td>\n",
              "      <td>10441</td>\n",
              "      <td>Pave</td>\n",
              "      <td>NaN</td>\n",
              "      <td>Reg</td>\n",
              "      <td>Lvl</td>\n",
              "      <td>AllPub</td>\n",
              "      <td>...</td>\n",
              "      <td>0</td>\n",
              "      <td>0</td>\n",
              "      <td>NaN</td>\n",
              "      <td>MnPrv</td>\n",
              "      <td>Shed</td>\n",
              "      <td>700</td>\n",
              "      <td>7</td>\n",
              "      <td>2006</td>\n",
              "      <td>WD</td>\n",
              "      <td>Normal</td>\n",
              "    </tr>\n",
              "    <tr>\n",
              "      <th>1458</th>\n",
              "      <td>2919</td>\n",
              "      <td>60</td>\n",
              "      <td>RL</td>\n",
              "      <td>74.0</td>\n",
              "      <td>9627</td>\n",
              "      <td>Pave</td>\n",
              "      <td>NaN</td>\n",
              "      <td>Reg</td>\n",
              "      <td>Lvl</td>\n",
              "      <td>AllPub</td>\n",
              "      <td>...</td>\n",
              "      <td>0</td>\n",
              "      <td>0</td>\n",
              "      <td>NaN</td>\n",
              "      <td>NaN</td>\n",
              "      <td>NaN</td>\n",
              "      <td>0</td>\n",
              "      <td>11</td>\n",
              "      <td>2006</td>\n",
              "      <td>WD</td>\n",
              "      <td>Normal</td>\n",
              "    </tr>\n",
              "  </tbody>\n",
              "</table>\n",
              "<p>1459 rows × 80 columns</p>\n",
              "</div>\n",
              "    <div class=\"colab-df-buttons\">\n",
              "\n",
              "  <div class=\"colab-df-container\">\n",
              "    <button class=\"colab-df-convert\" onclick=\"convertToInteractive('df-2398d673-36a5-4193-95b1-ffd8b0a0ddee')\"\n",
              "            title=\"Convert this dataframe to an interactive table.\"\n",
              "            style=\"display:none;\">\n",
              "\n",
              "  <svg xmlns=\"http://www.w3.org/2000/svg\" height=\"24px\" viewBox=\"0 -960 960 960\">\n",
              "    <path d=\"M120-120v-720h720v720H120Zm60-500h600v-160H180v160Zm220 220h160v-160H400v160Zm0 220h160v-160H400v160ZM180-400h160v-160H180v160Zm440 0h160v-160H620v160ZM180-180h160v-160H180v160Zm440 0h160v-160H620v160Z\"/>\n",
              "  </svg>\n",
              "    </button>\n",
              "\n",
              "  <style>\n",
              "    .colab-df-container {\n",
              "      display:flex;\n",
              "      gap: 12px;\n",
              "    }\n",
              "\n",
              "    .colab-df-convert {\n",
              "      background-color: #E8F0FE;\n",
              "      border: none;\n",
              "      border-radius: 50%;\n",
              "      cursor: pointer;\n",
              "      display: none;\n",
              "      fill: #1967D2;\n",
              "      height: 32px;\n",
              "      padding: 0 0 0 0;\n",
              "      width: 32px;\n",
              "    }\n",
              "\n",
              "    .colab-df-convert:hover {\n",
              "      background-color: #E2EBFA;\n",
              "      box-shadow: 0px 1px 2px rgba(60, 64, 67, 0.3), 0px 1px 3px 1px rgba(60, 64, 67, 0.15);\n",
              "      fill: #174EA6;\n",
              "    }\n",
              "\n",
              "    .colab-df-buttons div {\n",
              "      margin-bottom: 4px;\n",
              "    }\n",
              "\n",
              "    [theme=dark] .colab-df-convert {\n",
              "      background-color: #3B4455;\n",
              "      fill: #D2E3FC;\n",
              "    }\n",
              "\n",
              "    [theme=dark] .colab-df-convert:hover {\n",
              "      background-color: #434B5C;\n",
              "      box-shadow: 0px 1px 3px 1px rgba(0, 0, 0, 0.15);\n",
              "      filter: drop-shadow(0px 1px 2px rgba(0, 0, 0, 0.3));\n",
              "      fill: #FFFFFF;\n",
              "    }\n",
              "  </style>\n",
              "\n",
              "    <script>\n",
              "      const buttonEl =\n",
              "        document.querySelector('#df-2398d673-36a5-4193-95b1-ffd8b0a0ddee button.colab-df-convert');\n",
              "      buttonEl.style.display =\n",
              "        google.colab.kernel.accessAllowed ? 'block' : 'none';\n",
              "\n",
              "      async function convertToInteractive(key) {\n",
              "        const element = document.querySelector('#df-2398d673-36a5-4193-95b1-ffd8b0a0ddee');\n",
              "        const dataTable =\n",
              "          await google.colab.kernel.invokeFunction('convertToInteractive',\n",
              "                                                    [key], {});\n",
              "        if (!dataTable) return;\n",
              "\n",
              "        const docLinkHtml = 'Like what you see? Visit the ' +\n",
              "          '<a target=\"_blank\" href=https://colab.research.google.com/notebooks/data_table.ipynb>data table notebook</a>'\n",
              "          + ' to learn more about interactive tables.';\n",
              "        element.innerHTML = '';\n",
              "        dataTable['output_type'] = 'display_data';\n",
              "        await google.colab.output.renderOutput(dataTable, element);\n",
              "        const docLink = document.createElement('div');\n",
              "        docLink.innerHTML = docLinkHtml;\n",
              "        element.appendChild(docLink);\n",
              "      }\n",
              "    </script>\n",
              "  </div>\n",
              "\n",
              "\n",
              "<div id=\"df-4cc4f6f6-a216-48f6-ba3c-a28a409e8f25\">\n",
              "  <button class=\"colab-df-quickchart\" onclick=\"quickchart('df-4cc4f6f6-a216-48f6-ba3c-a28a409e8f25')\"\n",
              "            title=\"Suggest charts\"\n",
              "            style=\"display:none;\">\n",
              "\n",
              "<svg xmlns=\"http://www.w3.org/2000/svg\" height=\"24px\"viewBox=\"0 0 24 24\"\n",
              "     width=\"24px\">\n",
              "    <g>\n",
              "        <path d=\"M19 3H5c-1.1 0-2 .9-2 2v14c0 1.1.9 2 2 2h14c1.1 0 2-.9 2-2V5c0-1.1-.9-2-2-2zM9 17H7v-7h2v7zm4 0h-2V7h2v10zm4 0h-2v-4h2v4z\"/>\n",
              "    </g>\n",
              "</svg>\n",
              "  </button>\n",
              "\n",
              "<style>\n",
              "  .colab-df-quickchart {\n",
              "      --bg-color: #E8F0FE;\n",
              "      --fill-color: #1967D2;\n",
              "      --hover-bg-color: #E2EBFA;\n",
              "      --hover-fill-color: #174EA6;\n",
              "      --disabled-fill-color: #AAA;\n",
              "      --disabled-bg-color: #DDD;\n",
              "  }\n",
              "\n",
              "  [theme=dark] .colab-df-quickchart {\n",
              "      --bg-color: #3B4455;\n",
              "      --fill-color: #D2E3FC;\n",
              "      --hover-bg-color: #434B5C;\n",
              "      --hover-fill-color: #FFFFFF;\n",
              "      --disabled-bg-color: #3B4455;\n",
              "      --disabled-fill-color: #666;\n",
              "  }\n",
              "\n",
              "  .colab-df-quickchart {\n",
              "    background-color: var(--bg-color);\n",
              "    border: none;\n",
              "    border-radius: 50%;\n",
              "    cursor: pointer;\n",
              "    display: none;\n",
              "    fill: var(--fill-color);\n",
              "    height: 32px;\n",
              "    padding: 0;\n",
              "    width: 32px;\n",
              "  }\n",
              "\n",
              "  .colab-df-quickchart:hover {\n",
              "    background-color: var(--hover-bg-color);\n",
              "    box-shadow: 0 1px 2px rgba(60, 64, 67, 0.3), 0 1px 3px 1px rgba(60, 64, 67, 0.15);\n",
              "    fill: var(--button-hover-fill-color);\n",
              "  }\n",
              "\n",
              "  .colab-df-quickchart-complete:disabled,\n",
              "  .colab-df-quickchart-complete:disabled:hover {\n",
              "    background-color: var(--disabled-bg-color);\n",
              "    fill: var(--disabled-fill-color);\n",
              "    box-shadow: none;\n",
              "  }\n",
              "\n",
              "  .colab-df-spinner {\n",
              "    border: 2px solid var(--fill-color);\n",
              "    border-color: transparent;\n",
              "    border-bottom-color: var(--fill-color);\n",
              "    animation:\n",
              "      spin 1s steps(1) infinite;\n",
              "  }\n",
              "\n",
              "  @keyframes spin {\n",
              "    0% {\n",
              "      border-color: transparent;\n",
              "      border-bottom-color: var(--fill-color);\n",
              "      border-left-color: var(--fill-color);\n",
              "    }\n",
              "    20% {\n",
              "      border-color: transparent;\n",
              "      border-left-color: var(--fill-color);\n",
              "      border-top-color: var(--fill-color);\n",
              "    }\n",
              "    30% {\n",
              "      border-color: transparent;\n",
              "      border-left-color: var(--fill-color);\n",
              "      border-top-color: var(--fill-color);\n",
              "      border-right-color: var(--fill-color);\n",
              "    }\n",
              "    40% {\n",
              "      border-color: transparent;\n",
              "      border-right-color: var(--fill-color);\n",
              "      border-top-color: var(--fill-color);\n",
              "    }\n",
              "    60% {\n",
              "      border-color: transparent;\n",
              "      border-right-color: var(--fill-color);\n",
              "    }\n",
              "    80% {\n",
              "      border-color: transparent;\n",
              "      border-right-color: var(--fill-color);\n",
              "      border-bottom-color: var(--fill-color);\n",
              "    }\n",
              "    90% {\n",
              "      border-color: transparent;\n",
              "      border-bottom-color: var(--fill-color);\n",
              "    }\n",
              "  }\n",
              "</style>\n",
              "\n",
              "  <script>\n",
              "    async function quickchart(key) {\n",
              "      const quickchartButtonEl =\n",
              "        document.querySelector('#' + key + ' button');\n",
              "      quickchartButtonEl.disabled = true;  // To prevent multiple clicks.\n",
              "      quickchartButtonEl.classList.add('colab-df-spinner');\n",
              "      try {\n",
              "        const charts = await google.colab.kernel.invokeFunction(\n",
              "            'suggestCharts', [key], {});\n",
              "      } catch (error) {\n",
              "        console.error('Error during call to suggestCharts:', error);\n",
              "      }\n",
              "      quickchartButtonEl.classList.remove('colab-df-spinner');\n",
              "      quickchartButtonEl.classList.add('colab-df-quickchart-complete');\n",
              "    }\n",
              "    (() => {\n",
              "      let quickchartButtonEl =\n",
              "        document.querySelector('#df-4cc4f6f6-a216-48f6-ba3c-a28a409e8f25 button');\n",
              "      quickchartButtonEl.style.display =\n",
              "        google.colab.kernel.accessAllowed ? 'block' : 'none';\n",
              "    })();\n",
              "  </script>\n",
              "</div>\n",
              "\n",
              "  <div id=\"id_e9a7cacb-ccd5-4cd3-a4c1-871e7ef8b3a5\">\n",
              "    <style>\n",
              "      .colab-df-generate {\n",
              "        background-color: #E8F0FE;\n",
              "        border: none;\n",
              "        border-radius: 50%;\n",
              "        cursor: pointer;\n",
              "        display: none;\n",
              "        fill: #1967D2;\n",
              "        height: 32px;\n",
              "        padding: 0 0 0 0;\n",
              "        width: 32px;\n",
              "      }\n",
              "\n",
              "      .colab-df-generate:hover {\n",
              "        background-color: #E2EBFA;\n",
              "        box-shadow: 0px 1px 2px rgba(60, 64, 67, 0.3), 0px 1px 3px 1px rgba(60, 64, 67, 0.15);\n",
              "        fill: #174EA6;\n",
              "      }\n",
              "\n",
              "      [theme=dark] .colab-df-generate {\n",
              "        background-color: #3B4455;\n",
              "        fill: #D2E3FC;\n",
              "      }\n",
              "\n",
              "      [theme=dark] .colab-df-generate:hover {\n",
              "        background-color: #434B5C;\n",
              "        box-shadow: 0px 1px 3px 1px rgba(0, 0, 0, 0.15);\n",
              "        filter: drop-shadow(0px 1px 2px rgba(0, 0, 0, 0.3));\n",
              "        fill: #FFFFFF;\n",
              "      }\n",
              "    </style>\n",
              "    <button class=\"colab-df-generate\" onclick=\"generateWithVariable('X_test')\"\n",
              "            title=\"Generate code using this dataframe.\"\n",
              "            style=\"display:none;\">\n",
              "\n",
              "  <svg xmlns=\"http://www.w3.org/2000/svg\" height=\"24px\"viewBox=\"0 0 24 24\"\n",
              "       width=\"24px\">\n",
              "    <path d=\"M7,19H8.4L18.45,9,17,7.55,7,17.6ZM5,21V16.75L18.45,3.32a2,2,0,0,1,2.83,0l1.4,1.43a1.91,1.91,0,0,1,.58,1.4,1.91,1.91,0,0,1-.58,1.4L9.25,21ZM18.45,9,17,7.55Zm-12,3A5.31,5.31,0,0,0,4.9,8.1,5.31,5.31,0,0,0,1,6.5,5.31,5.31,0,0,0,4.9,4.9,5.31,5.31,0,0,0,6.5,1,5.31,5.31,0,0,0,8.1,4.9,5.31,5.31,0,0,0,12,6.5,5.46,5.46,0,0,0,6.5,12Z\"/>\n",
              "  </svg>\n",
              "    </button>\n",
              "    <script>\n",
              "      (() => {\n",
              "      const buttonEl =\n",
              "        document.querySelector('#id_e9a7cacb-ccd5-4cd3-a4c1-871e7ef8b3a5 button.colab-df-generate');\n",
              "      buttonEl.style.display =\n",
              "        google.colab.kernel.accessAllowed ? 'block' : 'none';\n",
              "\n",
              "      buttonEl.onclick = () => {\n",
              "        google.colab.notebook.generateWithVariable('X_test');\n",
              "      }\n",
              "      })();\n",
              "    </script>\n",
              "  </div>\n",
              "\n",
              "    </div>\n",
              "  </div>\n"
            ],
            "application/vnd.google.colaboratory.intrinsic+json": {
              "type": "dataframe",
              "variable_name": "X_test"
            }
          },
          "metadata": {},
          "execution_count": 137
        }
      ],
      "source": [
        "X_test"
      ]
    },
    {
      "cell_type": "code",
      "execution_count": 138,
      "id": "15d2fe70",
      "metadata": {
        "execution": {
          "iopub.execute_input": "2024-01-25T21:39:30.579914Z",
          "iopub.status.busy": "2024-01-25T21:39:30.578704Z",
          "iopub.status.idle": "2024-01-25T21:39:30.604235Z",
          "shell.execute_reply": "2024-01-25T21:39:30.602948Z"
        },
        "papermill": {
          "duration": 0.039735,
          "end_time": "2024-01-25T21:39:30.606409",
          "exception": false,
          "start_time": "2024-01-25T21:39:30.566674",
          "status": "completed"
        },
        "tags": [],
        "colab": {
          "base_uri": "https://localhost:8080/"
        },
        "id": "15d2fe70",
        "outputId": "f4798c03-a75f-4c10-f293-b0f5c98d2e25"
      },
      "outputs": [
        {
          "output_type": "stream",
          "name": "stdout",
          "text": [
            "<class 'pandas.core.frame.DataFrame'>\n",
            "RangeIndex: 891 entries, 0 to 890\n",
            "Data columns (total 12 columns):\n",
            " #   Column       Non-Null Count  Dtype  \n",
            "---  ------       --------------  -----  \n",
            " 0   PassengerId  891 non-null    int64  \n",
            " 1   Survived     891 non-null    int64  \n",
            " 2   Pclass       891 non-null    int64  \n",
            " 3   Name         891 non-null    object \n",
            " 4   Sex          891 non-null    object \n",
            " 5   Age          714 non-null    float64\n",
            " 6   SibSp        891 non-null    int64  \n",
            " 7   Parch        891 non-null    int64  \n",
            " 8   Ticket       891 non-null    object \n",
            " 9   Fare         891 non-null    float64\n",
            " 10  Cabin        204 non-null    object \n",
            " 11  Embarked     889 non-null    object \n",
            "dtypes: float64(2), int64(5), object(5)\n",
            "memory usage: 83.7+ KB\n"
          ]
        }
      ],
      "source": [
        "X.info()"
      ]
    },
    {
      "cell_type": "code",
      "execution_count": 139,
      "id": "8f47aff3",
      "metadata": {
        "execution": {
          "iopub.execute_input": "2024-01-25T21:39:30.629812Z",
          "iopub.status.busy": "2024-01-25T21:39:30.629188Z",
          "iopub.status.idle": "2024-01-25T21:39:30.655891Z",
          "shell.execute_reply": "2024-01-25T21:39:30.654731Z"
        },
        "papermill": {
          "duration": 0.0411,
          "end_time": "2024-01-25T21:39:30.658434",
          "exception": false,
          "start_time": "2024-01-25T21:39:30.617334",
          "status": "completed"
        },
        "tags": [],
        "colab": {
          "base_uri": "https://localhost:8080/",
          "height": 300
        },
        "id": "8f47aff3",
        "outputId": "59e4a5e9-276a-44e8-9dc9-ec1fe2649a03"
      },
      "outputs": [
        {
          "output_type": "execute_result",
          "data": {
            "text/plain": [
              "       PassengerId    Survived      Pclass         Age       SibSp  \\\n",
              "count   891.000000  891.000000  891.000000  714.000000  891.000000   \n",
              "mean    446.000000    0.383838    2.308642   29.699118    0.523008   \n",
              "std     257.353842    0.486592    0.836071   14.526497    1.102743   \n",
              "min       1.000000    0.000000    1.000000    0.420000    0.000000   \n",
              "25%     223.500000    0.000000    2.000000   20.125000    0.000000   \n",
              "50%     446.000000    0.000000    3.000000   28.000000    0.000000   \n",
              "75%     668.500000    1.000000    3.000000   38.000000    1.000000   \n",
              "max     891.000000    1.000000    3.000000   80.000000    8.000000   \n",
              "\n",
              "            Parch        Fare  \n",
              "count  891.000000  891.000000  \n",
              "mean     0.381594   32.204208  \n",
              "std      0.806057   49.693429  \n",
              "min      0.000000    0.000000  \n",
              "25%      0.000000    7.910400  \n",
              "50%      0.000000   14.454200  \n",
              "75%      0.000000   31.000000  \n",
              "max      6.000000  512.329200  "
            ],
            "text/html": [
              "\n",
              "  <div id=\"df-a8f03060-6533-436b-8094-1bf5e9e1d3bb\" class=\"colab-df-container\">\n",
              "    <div>\n",
              "<style scoped>\n",
              "    .dataframe tbody tr th:only-of-type {\n",
              "        vertical-align: middle;\n",
              "    }\n",
              "\n",
              "    .dataframe tbody tr th {\n",
              "        vertical-align: top;\n",
              "    }\n",
              "\n",
              "    .dataframe thead th {\n",
              "        text-align: right;\n",
              "    }\n",
              "</style>\n",
              "<table border=\"1\" class=\"dataframe\">\n",
              "  <thead>\n",
              "    <tr style=\"text-align: right;\">\n",
              "      <th></th>\n",
              "      <th>PassengerId</th>\n",
              "      <th>Survived</th>\n",
              "      <th>Pclass</th>\n",
              "      <th>Age</th>\n",
              "      <th>SibSp</th>\n",
              "      <th>Parch</th>\n",
              "      <th>Fare</th>\n",
              "    </tr>\n",
              "  </thead>\n",
              "  <tbody>\n",
              "    <tr>\n",
              "      <th>count</th>\n",
              "      <td>891.000000</td>\n",
              "      <td>891.000000</td>\n",
              "      <td>891.000000</td>\n",
              "      <td>714.000000</td>\n",
              "      <td>891.000000</td>\n",
              "      <td>891.000000</td>\n",
              "      <td>891.000000</td>\n",
              "    </tr>\n",
              "    <tr>\n",
              "      <th>mean</th>\n",
              "      <td>446.000000</td>\n",
              "      <td>0.383838</td>\n",
              "      <td>2.308642</td>\n",
              "      <td>29.699118</td>\n",
              "      <td>0.523008</td>\n",
              "      <td>0.381594</td>\n",
              "      <td>32.204208</td>\n",
              "    </tr>\n",
              "    <tr>\n",
              "      <th>std</th>\n",
              "      <td>257.353842</td>\n",
              "      <td>0.486592</td>\n",
              "      <td>0.836071</td>\n",
              "      <td>14.526497</td>\n",
              "      <td>1.102743</td>\n",
              "      <td>0.806057</td>\n",
              "      <td>49.693429</td>\n",
              "    </tr>\n",
              "    <tr>\n",
              "      <th>min</th>\n",
              "      <td>1.000000</td>\n",
              "      <td>0.000000</td>\n",
              "      <td>1.000000</td>\n",
              "      <td>0.420000</td>\n",
              "      <td>0.000000</td>\n",
              "      <td>0.000000</td>\n",
              "      <td>0.000000</td>\n",
              "    </tr>\n",
              "    <tr>\n",
              "      <th>25%</th>\n",
              "      <td>223.500000</td>\n",
              "      <td>0.000000</td>\n",
              "      <td>2.000000</td>\n",
              "      <td>20.125000</td>\n",
              "      <td>0.000000</td>\n",
              "      <td>0.000000</td>\n",
              "      <td>7.910400</td>\n",
              "    </tr>\n",
              "    <tr>\n",
              "      <th>50%</th>\n",
              "      <td>446.000000</td>\n",
              "      <td>0.000000</td>\n",
              "      <td>3.000000</td>\n",
              "      <td>28.000000</td>\n",
              "      <td>0.000000</td>\n",
              "      <td>0.000000</td>\n",
              "      <td>14.454200</td>\n",
              "    </tr>\n",
              "    <tr>\n",
              "      <th>75%</th>\n",
              "      <td>668.500000</td>\n",
              "      <td>1.000000</td>\n",
              "      <td>3.000000</td>\n",
              "      <td>38.000000</td>\n",
              "      <td>1.000000</td>\n",
              "      <td>0.000000</td>\n",
              "      <td>31.000000</td>\n",
              "    </tr>\n",
              "    <tr>\n",
              "      <th>max</th>\n",
              "      <td>891.000000</td>\n",
              "      <td>1.000000</td>\n",
              "      <td>3.000000</td>\n",
              "      <td>80.000000</td>\n",
              "      <td>8.000000</td>\n",
              "      <td>6.000000</td>\n",
              "      <td>512.329200</td>\n",
              "    </tr>\n",
              "  </tbody>\n",
              "</table>\n",
              "</div>\n",
              "    <div class=\"colab-df-buttons\">\n",
              "\n",
              "  <div class=\"colab-df-container\">\n",
              "    <button class=\"colab-df-convert\" onclick=\"convertToInteractive('df-a8f03060-6533-436b-8094-1bf5e9e1d3bb')\"\n",
              "            title=\"Convert this dataframe to an interactive table.\"\n",
              "            style=\"display:none;\">\n",
              "\n",
              "  <svg xmlns=\"http://www.w3.org/2000/svg\" height=\"24px\" viewBox=\"0 -960 960 960\">\n",
              "    <path d=\"M120-120v-720h720v720H120Zm60-500h600v-160H180v160Zm220 220h160v-160H400v160Zm0 220h160v-160H400v160ZM180-400h160v-160H180v160Zm440 0h160v-160H620v160ZM180-180h160v-160H180v160Zm440 0h160v-160H620v160Z\"/>\n",
              "  </svg>\n",
              "    </button>\n",
              "\n",
              "  <style>\n",
              "    .colab-df-container {\n",
              "      display:flex;\n",
              "      gap: 12px;\n",
              "    }\n",
              "\n",
              "    .colab-df-convert {\n",
              "      background-color: #E8F0FE;\n",
              "      border: none;\n",
              "      border-radius: 50%;\n",
              "      cursor: pointer;\n",
              "      display: none;\n",
              "      fill: #1967D2;\n",
              "      height: 32px;\n",
              "      padding: 0 0 0 0;\n",
              "      width: 32px;\n",
              "    }\n",
              "\n",
              "    .colab-df-convert:hover {\n",
              "      background-color: #E2EBFA;\n",
              "      box-shadow: 0px 1px 2px rgba(60, 64, 67, 0.3), 0px 1px 3px 1px rgba(60, 64, 67, 0.15);\n",
              "      fill: #174EA6;\n",
              "    }\n",
              "\n",
              "    .colab-df-buttons div {\n",
              "      margin-bottom: 4px;\n",
              "    }\n",
              "\n",
              "    [theme=dark] .colab-df-convert {\n",
              "      background-color: #3B4455;\n",
              "      fill: #D2E3FC;\n",
              "    }\n",
              "\n",
              "    [theme=dark] .colab-df-convert:hover {\n",
              "      background-color: #434B5C;\n",
              "      box-shadow: 0px 1px 3px 1px rgba(0, 0, 0, 0.15);\n",
              "      filter: drop-shadow(0px 1px 2px rgba(0, 0, 0, 0.3));\n",
              "      fill: #FFFFFF;\n",
              "    }\n",
              "  </style>\n",
              "\n",
              "    <script>\n",
              "      const buttonEl =\n",
              "        document.querySelector('#df-a8f03060-6533-436b-8094-1bf5e9e1d3bb button.colab-df-convert');\n",
              "      buttonEl.style.display =\n",
              "        google.colab.kernel.accessAllowed ? 'block' : 'none';\n",
              "\n",
              "      async function convertToInteractive(key) {\n",
              "        const element = document.querySelector('#df-a8f03060-6533-436b-8094-1bf5e9e1d3bb');\n",
              "        const dataTable =\n",
              "          await google.colab.kernel.invokeFunction('convertToInteractive',\n",
              "                                                    [key], {});\n",
              "        if (!dataTable) return;\n",
              "\n",
              "        const docLinkHtml = 'Like what you see? Visit the ' +\n",
              "          '<a target=\"_blank\" href=https://colab.research.google.com/notebooks/data_table.ipynb>data table notebook</a>'\n",
              "          + ' to learn more about interactive tables.';\n",
              "        element.innerHTML = '';\n",
              "        dataTable['output_type'] = 'display_data';\n",
              "        await google.colab.output.renderOutput(dataTable, element);\n",
              "        const docLink = document.createElement('div');\n",
              "        docLink.innerHTML = docLinkHtml;\n",
              "        element.appendChild(docLink);\n",
              "      }\n",
              "    </script>\n",
              "  </div>\n",
              "\n",
              "\n",
              "<div id=\"df-94ab6f42-30b4-4bed-b833-ad9197b51395\">\n",
              "  <button class=\"colab-df-quickchart\" onclick=\"quickchart('df-94ab6f42-30b4-4bed-b833-ad9197b51395')\"\n",
              "            title=\"Suggest charts\"\n",
              "            style=\"display:none;\">\n",
              "\n",
              "<svg xmlns=\"http://www.w3.org/2000/svg\" height=\"24px\"viewBox=\"0 0 24 24\"\n",
              "     width=\"24px\">\n",
              "    <g>\n",
              "        <path d=\"M19 3H5c-1.1 0-2 .9-2 2v14c0 1.1.9 2 2 2h14c1.1 0 2-.9 2-2V5c0-1.1-.9-2-2-2zM9 17H7v-7h2v7zm4 0h-2V7h2v10zm4 0h-2v-4h2v4z\"/>\n",
              "    </g>\n",
              "</svg>\n",
              "  </button>\n",
              "\n",
              "<style>\n",
              "  .colab-df-quickchart {\n",
              "      --bg-color: #E8F0FE;\n",
              "      --fill-color: #1967D2;\n",
              "      --hover-bg-color: #E2EBFA;\n",
              "      --hover-fill-color: #174EA6;\n",
              "      --disabled-fill-color: #AAA;\n",
              "      --disabled-bg-color: #DDD;\n",
              "  }\n",
              "\n",
              "  [theme=dark] .colab-df-quickchart {\n",
              "      --bg-color: #3B4455;\n",
              "      --fill-color: #D2E3FC;\n",
              "      --hover-bg-color: #434B5C;\n",
              "      --hover-fill-color: #FFFFFF;\n",
              "      --disabled-bg-color: #3B4455;\n",
              "      --disabled-fill-color: #666;\n",
              "  }\n",
              "\n",
              "  .colab-df-quickchart {\n",
              "    background-color: var(--bg-color);\n",
              "    border: none;\n",
              "    border-radius: 50%;\n",
              "    cursor: pointer;\n",
              "    display: none;\n",
              "    fill: var(--fill-color);\n",
              "    height: 32px;\n",
              "    padding: 0;\n",
              "    width: 32px;\n",
              "  }\n",
              "\n",
              "  .colab-df-quickchart:hover {\n",
              "    background-color: var(--hover-bg-color);\n",
              "    box-shadow: 0 1px 2px rgba(60, 64, 67, 0.3), 0 1px 3px 1px rgba(60, 64, 67, 0.15);\n",
              "    fill: var(--button-hover-fill-color);\n",
              "  }\n",
              "\n",
              "  .colab-df-quickchart-complete:disabled,\n",
              "  .colab-df-quickchart-complete:disabled:hover {\n",
              "    background-color: var(--disabled-bg-color);\n",
              "    fill: var(--disabled-fill-color);\n",
              "    box-shadow: none;\n",
              "  }\n",
              "\n",
              "  .colab-df-spinner {\n",
              "    border: 2px solid var(--fill-color);\n",
              "    border-color: transparent;\n",
              "    border-bottom-color: var(--fill-color);\n",
              "    animation:\n",
              "      spin 1s steps(1) infinite;\n",
              "  }\n",
              "\n",
              "  @keyframes spin {\n",
              "    0% {\n",
              "      border-color: transparent;\n",
              "      border-bottom-color: var(--fill-color);\n",
              "      border-left-color: var(--fill-color);\n",
              "    }\n",
              "    20% {\n",
              "      border-color: transparent;\n",
              "      border-left-color: var(--fill-color);\n",
              "      border-top-color: var(--fill-color);\n",
              "    }\n",
              "    30% {\n",
              "      border-color: transparent;\n",
              "      border-left-color: var(--fill-color);\n",
              "      border-top-color: var(--fill-color);\n",
              "      border-right-color: var(--fill-color);\n",
              "    }\n",
              "    40% {\n",
              "      border-color: transparent;\n",
              "      border-right-color: var(--fill-color);\n",
              "      border-top-color: var(--fill-color);\n",
              "    }\n",
              "    60% {\n",
              "      border-color: transparent;\n",
              "      border-right-color: var(--fill-color);\n",
              "    }\n",
              "    80% {\n",
              "      border-color: transparent;\n",
              "      border-right-color: var(--fill-color);\n",
              "      border-bottom-color: var(--fill-color);\n",
              "    }\n",
              "    90% {\n",
              "      border-color: transparent;\n",
              "      border-bottom-color: var(--fill-color);\n",
              "    }\n",
              "  }\n",
              "</style>\n",
              "\n",
              "  <script>\n",
              "    async function quickchart(key) {\n",
              "      const quickchartButtonEl =\n",
              "        document.querySelector('#' + key + ' button');\n",
              "      quickchartButtonEl.disabled = true;  // To prevent multiple clicks.\n",
              "      quickchartButtonEl.classList.add('colab-df-spinner');\n",
              "      try {\n",
              "        const charts = await google.colab.kernel.invokeFunction(\n",
              "            'suggestCharts', [key], {});\n",
              "      } catch (error) {\n",
              "        console.error('Error during call to suggestCharts:', error);\n",
              "      }\n",
              "      quickchartButtonEl.classList.remove('colab-df-spinner');\n",
              "      quickchartButtonEl.classList.add('colab-df-quickchart-complete');\n",
              "    }\n",
              "    (() => {\n",
              "      let quickchartButtonEl =\n",
              "        document.querySelector('#df-94ab6f42-30b4-4bed-b833-ad9197b51395 button');\n",
              "      quickchartButtonEl.style.display =\n",
              "        google.colab.kernel.accessAllowed ? 'block' : 'none';\n",
              "    })();\n",
              "  </script>\n",
              "</div>\n",
              "\n",
              "    </div>\n",
              "  </div>\n"
            ],
            "application/vnd.google.colaboratory.intrinsic+json": {
              "type": "dataframe",
              "summary": "{\n  \"name\": \"X\",\n  \"rows\": 8,\n  \"fields\": [\n    {\n      \"column\": \"PassengerId\",\n      \"properties\": {\n        \"dtype\": \"number\",\n        \"std\": 320.8159711429855,\n        \"min\": 1.0,\n        \"max\": 891.0,\n        \"num_unique_values\": 6,\n        \"samples\": [\n          891.0,\n          446.0,\n          668.5\n        ],\n        \"semantic_type\": \"\",\n        \"description\": \"\"\n      }\n    },\n    {\n      \"column\": \"Survived\",\n      \"properties\": {\n        \"dtype\": \"number\",\n        \"std\": 314.8713661874558,\n        \"min\": 0.0,\n        \"max\": 891.0,\n        \"num_unique_values\": 5,\n        \"samples\": [\n          0.3838383838383838,\n          1.0,\n          0.4865924542648575\n        ],\n        \"semantic_type\": \"\",\n        \"description\": \"\"\n      }\n    },\n    {\n      \"column\": \"Pclass\",\n      \"properties\": {\n        \"dtype\": \"number\",\n        \"std\": 314.2523437079694,\n        \"min\": 0.836071240977049,\n        \"max\": 891.0,\n        \"num_unique_values\": 6,\n        \"samples\": [\n          891.0,\n          2.308641975308642,\n          3.0\n        ],\n        \"semantic_type\": \"\",\n        \"description\": \"\"\n      }\n    },\n    {\n      \"column\": \"Age\",\n      \"properties\": {\n        \"dtype\": \"number\",\n        \"std\": 242.9056731818781,\n        \"min\": 0.42,\n        \"max\": 714.0,\n        \"num_unique_values\": 8,\n        \"samples\": [\n          29.69911764705882,\n          28.0,\n          714.0\n        ],\n        \"semantic_type\": \"\",\n        \"description\": \"\"\n      }\n    },\n    {\n      \"column\": \"SibSp\",\n      \"properties\": {\n        \"dtype\": \"number\",\n        \"std\": 314.4908277465442,\n        \"min\": 0.0,\n        \"max\": 891.0,\n        \"num_unique_values\": 6,\n        \"samples\": [\n          891.0,\n          0.5230078563411896,\n          8.0\n        ],\n        \"semantic_type\": \"\",\n        \"description\": \"\"\n      }\n    },\n    {\n      \"column\": \"Parch\",\n      \"properties\": {\n        \"dtype\": \"number\",\n        \"std\": 314.65971717879,\n        \"min\": 0.0,\n        \"max\": 891.0,\n        \"num_unique_values\": 5,\n        \"samples\": [\n          0.38159371492704824,\n          6.0,\n          0.8060572211299483\n        ],\n        \"semantic_type\": \"\",\n        \"description\": \"\"\n      }\n    },\n    {\n      \"column\": \"Fare\",\n      \"properties\": {\n        \"dtype\": \"number\",\n        \"std\": 330.6256632228578,\n        \"min\": 0.0,\n        \"max\": 891.0,\n        \"num_unique_values\": 8,\n        \"samples\": [\n          32.204207968574636,\n          14.4542,\n          891.0\n        ],\n        \"semantic_type\": \"\",\n        \"description\": \"\"\n      }\n    }\n  ]\n}"
            }
          },
          "metadata": {},
          "execution_count": 139
        }
      ],
      "source": [
        "X.describe()"
      ]
    },
    {
      "cell_type": "code",
      "execution_count": 140,
      "id": "77abd098",
      "metadata": {
        "execution": {
          "iopub.execute_input": "2024-01-25T21:39:30.682166Z",
          "iopub.status.busy": "2024-01-25T21:39:30.681791Z",
          "iopub.status.idle": "2024-01-25T21:39:30.690771Z",
          "shell.execute_reply": "2024-01-25T21:39:30.689673Z"
        },
        "papermill": {
          "duration": 0.022954,
          "end_time": "2024-01-25T21:39:30.692562",
          "exception": false,
          "start_time": "2024-01-25T21:39:30.669608",
          "status": "completed"
        },
        "tags": [],
        "colab": {
          "base_uri": "https://localhost:8080/"
        },
        "id": "77abd098",
        "outputId": "df83b405-9c59-42bc-dd0f-863fd8a0e171"
      },
      "outputs": [
        {
          "output_type": "execute_result",
          "data": {
            "text/plain": [
              "PassengerId      0\n",
              "Survived         0\n",
              "Pclass           0\n",
              "Name             0\n",
              "Sex              0\n",
              "Age            177\n",
              "SibSp            0\n",
              "Parch            0\n",
              "Ticket           0\n",
              "Fare             0\n",
              "Cabin          687\n",
              "Embarked         2\n",
              "dtype: int64"
            ]
          },
          "metadata": {},
          "execution_count": 140
        }
      ],
      "source": [
        "X.isnull().sum()"
      ]
    },
    {
      "cell_type": "markdown",
      "id": "73a32074",
      "metadata": {
        "papermill": {
          "duration": 0.010451,
          "end_time": "2024-01-25T21:39:30.714285",
          "exception": false,
          "start_time": "2024-01-25T21:39:30.703834",
          "status": "completed"
        },
        "tags": [],
        "id": "73a32074"
      },
      "source": [
        "**here we need to see the catgorical columns with null value and cardnailty less than 10**"
      ]
    },
    {
      "cell_type": "code",
      "execution_count": 141,
      "id": "7bdd0bfd",
      "metadata": {
        "execution": {
          "iopub.execute_input": "2024-01-25T21:39:30.736874Z",
          "iopub.status.busy": "2024-01-25T21:39:30.736544Z",
          "iopub.status.idle": "2024-01-25T21:39:30.748185Z",
          "shell.execute_reply": "2024-01-25T21:39:30.747373Z"
        },
        "papermill": {
          "duration": 0.025619,
          "end_time": "2024-01-25T21:39:30.750418",
          "exception": false,
          "start_time": "2024-01-25T21:39:30.724799",
          "status": "completed"
        },
        "tags": [],
        "colab": {
          "base_uri": "https://localhost:8080/"
        },
        "id": "7bdd0bfd",
        "outputId": "bdbe7882-d00d-41eb-ac8c-18f1963e7e6e"
      },
      "outputs": [
        {
          "output_type": "execute_result",
          "data": {
            "text/plain": [
              "['Embarked']"
            ]
          },
          "metadata": {},
          "execution_count": 141
        }
      ],
      "source": [
        "cat_cols=[col for col in X.columns\n",
        "         if X[col].nunique()<10 and\n",
        "         X[col].dtype=='object' and\n",
        "         X[col].isnull().sum()>0]\n",
        "cat_cols"
      ]
    },
    {
      "cell_type": "markdown",
      "id": "b5439836",
      "metadata": {
        "papermill": {
          "duration": 0.073343,
          "end_time": "2024-01-25T21:39:30.835752",
          "exception": false,
          "start_time": "2024-01-25T21:39:30.762409",
          "status": "completed"
        },
        "tags": [],
        "id": "b5439836"
      },
      "source": [
        "**here we get the numerical columns with null values**"
      ]
    },
    {
      "cell_type": "code",
      "execution_count": 142,
      "id": "e2b9325a",
      "metadata": {
        "execution": {
          "iopub.execute_input": "2024-01-25T21:39:30.860682Z",
          "iopub.status.busy": "2024-01-25T21:39:30.859807Z",
          "iopub.status.idle": "2024-01-25T21:39:30.867016Z",
          "shell.execute_reply": "2024-01-25T21:39:30.866415Z"
        },
        "papermill": {
          "duration": 0.02134,
          "end_time": "2024-01-25T21:39:30.868679",
          "exception": false,
          "start_time": "2024-01-25T21:39:30.847339",
          "status": "completed"
        },
        "tags": [],
        "colab": {
          "base_uri": "https://localhost:8080/"
        },
        "id": "e2b9325a",
        "outputId": "d39d8cc4-177b-432f-e6af-475eca916932"
      },
      "outputs": [
        {
          "output_type": "execute_result",
          "data": {
            "text/plain": [
              "['Age']"
            ]
          },
          "metadata": {},
          "execution_count": 142
        }
      ],
      "source": [
        "num_col=[col for col in X.columns\n",
        "         if X[col].dtype in ['float64','int64'] and\n",
        "         X[col].isnull().sum()>0]\n",
        "num_col"
      ]
    },
    {
      "cell_type": "code",
      "execution_count": 143,
      "id": "478c943b",
      "metadata": {
        "execution": {
          "iopub.execute_input": "2024-01-25T21:39:30.894296Z",
          "iopub.status.busy": "2024-01-25T21:39:30.893955Z",
          "iopub.status.idle": "2024-01-25T21:39:30.900558Z",
          "shell.execute_reply": "2024-01-25T21:39:30.899258Z"
        },
        "papermill": {
          "duration": 0.021796,
          "end_time": "2024-01-25T21:39:30.902165",
          "exception": false,
          "start_time": "2024-01-25T21:39:30.880369",
          "status": "completed"
        },
        "tags": [],
        "colab": {
          "base_uri": "https://localhost:8080/"
        },
        "id": "478c943b",
        "outputId": "0de86328-2fc7-4663-e57d-f397bf1571cf"
      },
      "outputs": [
        {
          "output_type": "execute_result",
          "data": {
            "text/plain": [
              "array([nan, 'C85', 'C123', 'E46', 'G6', 'C103', 'D56', 'A6',\n",
              "       'C23 C25 C27', 'B78', 'D33', 'B30', 'C52', 'B28', 'C83', 'F33',\n",
              "       'F G73', 'E31', 'A5', 'D10 D12', 'D26', 'C110', 'B58 B60', 'E101',\n",
              "       'F E69', 'D47', 'B86', 'F2', 'C2', 'E33', 'B19', 'A7', 'C49', 'F4',\n",
              "       'A32', 'B4', 'B80', 'A31', 'D36', 'D15', 'C93', 'C78', 'D35',\n",
              "       'C87', 'B77', 'E67', 'B94', 'C125', 'C99', 'C118', 'D7', 'A19',\n",
              "       'B49', 'D', 'C22 C26', 'C106', 'C65', 'E36', 'C54',\n",
              "       'B57 B59 B63 B66', 'C7', 'E34', 'C32', 'B18', 'C124', 'C91', 'E40',\n",
              "       'T', 'C128', 'D37', 'B35', 'E50', 'C82', 'B96 B98', 'E10', 'E44',\n",
              "       'A34', 'C104', 'C111', 'C92', 'E38', 'D21', 'E12', 'E63', 'A14',\n",
              "       'B37', 'C30', 'D20', 'B79', 'E25', 'D46', 'B73', 'C95', 'B38',\n",
              "       'B39', 'B22', 'C86', 'C70', 'A16', 'C101', 'C68', 'A10', 'E68',\n",
              "       'B41', 'A20', 'D19', 'D50', 'D9', 'A23', 'B50', 'A26', 'D48',\n",
              "       'E58', 'C126', 'B71', 'B51 B53 B55', 'D49', 'B5', 'B20', 'F G63',\n",
              "       'C62 C64', 'E24', 'C90', 'C45', 'E8', 'B101', 'D45', 'C46', 'D30',\n",
              "       'E121', 'D11', 'E77', 'F38', 'B3', 'D6', 'B82 B84', 'D17', 'A36',\n",
              "       'B102', 'B69', 'E49', 'C47', 'D28', 'E17', 'A24', 'C50', 'B42',\n",
              "       'C148'], dtype=object)"
            ]
          },
          "metadata": {},
          "execution_count": 143
        }
      ],
      "source": [
        "X['Cabin'].unique()"
      ]
    },
    {
      "cell_type": "markdown",
      "id": "65d2e5f1",
      "metadata": {
        "papermill": {
          "duration": 0.011817,
          "end_time": "2024-01-25T21:39:30.926592",
          "exception": false,
          "start_time": "2024-01-25T21:39:30.914775",
          "status": "completed"
        },
        "tags": [],
        "id": "65d2e5f1"
      },
      "source": [
        "**since the cardinalitly >10 in Cabin columns then we gonna drop it**"
      ]
    },
    {
      "cell_type": "code",
      "execution_count": 144,
      "id": "233eb989",
      "metadata": {
        "execution": {
          "iopub.execute_input": "2024-01-25T21:39:30.953113Z",
          "iopub.status.busy": "2024-01-25T21:39:30.952724Z",
          "iopub.status.idle": "2024-01-25T21:39:30.959199Z",
          "shell.execute_reply": "2024-01-25T21:39:30.957899Z"
        },
        "papermill": {
          "duration": 0.021735,
          "end_time": "2024-01-25T21:39:30.960902",
          "exception": false,
          "start_time": "2024-01-25T21:39:30.939167",
          "status": "completed"
        },
        "tags": [],
        "colab": {
          "base_uri": "https://localhost:8080/"
        },
        "id": "233eb989",
        "outputId": "366c5d75-cfaf-4bfc-da09-7ffe1e41cd4e"
      },
      "outputs": [
        {
          "output_type": "execute_result",
          "data": {
            "text/plain": [
              "147"
            ]
          },
          "metadata": {},
          "execution_count": 144
        }
      ],
      "source": [
        "X['Cabin'].nunique()"
      ]
    },
    {
      "cell_type": "code",
      "execution_count": 145,
      "id": "dc419a2e",
      "metadata": {
        "execution": {
          "iopub.execute_input": "2024-01-25T21:39:30.986861Z",
          "iopub.status.busy": "2024-01-25T21:39:30.986323Z",
          "iopub.status.idle": "2024-01-25T21:39:30.992708Z",
          "shell.execute_reply": "2024-01-25T21:39:30.991452Z"
        },
        "papermill": {
          "duration": 0.021997,
          "end_time": "2024-01-25T21:39:30.994620",
          "exception": false,
          "start_time": "2024-01-25T21:39:30.972623",
          "status": "completed"
        },
        "tags": [],
        "colab": {
          "base_uri": "https://localhost:8080/"
        },
        "id": "dc419a2e",
        "outputId": "aecf3ef0-ca19-4164-eddb-1eb95eeb829c"
      },
      "outputs": [
        {
          "output_type": "execute_result",
          "data": {
            "text/plain": [
              "3"
            ]
          },
          "metadata": {},
          "execution_count": 145
        }
      ],
      "source": [
        "X['Embarked'].nunique()"
      ]
    },
    {
      "cell_type": "code",
      "execution_count": 146,
      "id": "6661b80f",
      "metadata": {
        "execution": {
          "iopub.execute_input": "2024-01-25T21:39:31.021446Z",
          "iopub.status.busy": "2024-01-25T21:39:31.020685Z",
          "iopub.status.idle": "2024-01-25T21:39:31.026481Z",
          "shell.execute_reply": "2024-01-25T21:39:31.025663Z"
        },
        "papermill": {
          "duration": 0.021,
          "end_time": "2024-01-25T21:39:31.028301",
          "exception": false,
          "start_time": "2024-01-25T21:39:31.007301",
          "status": "completed"
        },
        "tags": [],
        "colab": {
          "base_uri": "https://localhost:8080/"
        },
        "id": "6661b80f",
        "outputId": "34a86012-fcfa-4475-cda3-919944cfd6b7"
      },
      "outputs": [
        {
          "output_type": "execute_result",
          "data": {
            "text/plain": [
              "array(['S', 'C', 'Q', nan], dtype=object)"
            ]
          },
          "metadata": {},
          "execution_count": 146
        }
      ],
      "source": [
        "X['Embarked'].unique()"
      ]
    },
    {
      "cell_type": "code",
      "execution_count": 147,
      "id": "078057ef",
      "metadata": {
        "execution": {
          "iopub.execute_input": "2024-01-25T21:39:31.054392Z",
          "iopub.status.busy": "2024-01-25T21:39:31.053849Z",
          "iopub.status.idle": "2024-01-25T21:39:31.062004Z",
          "shell.execute_reply": "2024-01-25T21:39:31.060785Z"
        },
        "papermill": {
          "duration": 0.023488,
          "end_time": "2024-01-25T21:39:31.063975",
          "exception": false,
          "start_time": "2024-01-25T21:39:31.040487",
          "status": "completed"
        },
        "tags": [],
        "colab": {
          "base_uri": "https://localhost:8080/"
        },
        "id": "078057ef",
        "outputId": "eeef0d4d-e337-4fe6-b221-ddf7d6f22615"
      },
      "outputs": [
        {
          "output_type": "execute_result",
          "data": {
            "text/plain": [
              "array(['A/5 21171', 'PC 17599', 'STON/O2. 3101282', '113803', '373450',\n",
              "       '330877', '17463', '349909', '347742', '237736', 'PP 9549',\n",
              "       '113783', 'A/5. 2151', '347082', '350406', '248706', '382652',\n",
              "       '244373', '345763', '2649', '239865', '248698', '330923', '113788',\n",
              "       '347077', '2631', '19950', '330959', '349216', 'PC 17601',\n",
              "       'PC 17569', '335677', 'C.A. 24579', 'PC 17604', '113789', '2677',\n",
              "       'A./5. 2152', '345764', '2651', '7546', '11668', '349253',\n",
              "       'SC/Paris 2123', '330958', 'S.C./A.4. 23567', '370371', '14311',\n",
              "       '2662', '349237', '3101295', 'A/4. 39886', 'PC 17572', '2926',\n",
              "       '113509', '19947', 'C.A. 31026', '2697', 'C.A. 34651', 'CA 2144',\n",
              "       '2669', '113572', '36973', '347088', 'PC 17605', '2661',\n",
              "       'C.A. 29395', 'S.P. 3464', '3101281', '315151', 'C.A. 33111',\n",
              "       'S.O.C. 14879', '2680', '1601', '348123', '349208', '374746',\n",
              "       '248738', '364516', '345767', '345779', '330932', '113059',\n",
              "       'SO/C 14885', '3101278', 'W./C. 6608', 'SOTON/OQ 392086', '343275',\n",
              "       '343276', '347466', 'W.E.P. 5734', 'C.A. 2315', '364500', '374910',\n",
              "       'PC 17754', 'PC 17759', '231919', '244367', '349245', '349215',\n",
              "       '35281', '7540', '3101276', '349207', '343120', '312991', '349249',\n",
              "       '371110', '110465', '2665', '324669', '4136', '2627',\n",
              "       'STON/O 2. 3101294', '370369', 'PC 17558', 'A4. 54510', '27267',\n",
              "       '370372', 'C 17369', '2668', '347061', '349241',\n",
              "       'SOTON/O.Q. 3101307', 'A/5. 3337', '228414', 'C.A. 29178',\n",
              "       'SC/PARIS 2133', '11752', '7534', 'PC 17593', '2678', '347081',\n",
              "       'STON/O2. 3101279', '365222', '231945', 'C.A. 33112', '350043',\n",
              "       '230080', '244310', 'S.O.P. 1166', '113776', 'A.5. 11206',\n",
              "       'A/5. 851', 'Fa 265302', 'PC 17597', '35851', 'SOTON/OQ 392090',\n",
              "       '315037', 'CA. 2343', '371362', 'C.A. 33595', '347068', '315093',\n",
              "       '363291', '113505', 'PC 17318', '111240', 'STON/O 2. 3101280',\n",
              "       '17764', '350404', '4133', 'PC 17595', '250653', 'LINE',\n",
              "       'SC/PARIS 2131', '230136', '315153', '113767', '370365', '111428',\n",
              "       '364849', '349247', '234604', '28424', '350046', 'PC 17610',\n",
              "       '368703', '4579', '370370', '248747', '345770', '3101264', '2628',\n",
              "       'A/5 3540', '347054', '2699', '367231', '112277',\n",
              "       'SOTON/O.Q. 3101311', 'F.C.C. 13528', 'A/5 21174', '250646',\n",
              "       '367229', '35273', 'STON/O2. 3101283', '243847', '11813',\n",
              "       'W/C 14208', 'SOTON/OQ 392089', '220367', '21440', '349234',\n",
              "       '19943', 'PP 4348', 'SW/PP 751', 'A/5 21173', '236171', '347067',\n",
              "       '237442', 'C.A. 29566', 'W./C. 6609', '26707', 'C.A. 31921',\n",
              "       '28665', 'SCO/W 1585', '367230', 'W./C. 14263',\n",
              "       'STON/O 2. 3101275', '2694', '19928', '347071', '250649', '11751',\n",
              "       '244252', '362316', '113514', 'A/5. 3336', '370129', '2650',\n",
              "       'PC 17585', '110152', 'PC 17755', '230433', '384461', '110413',\n",
              "       '112059', '382649', 'C.A. 17248', '347083', 'PC 17582', 'PC 17760',\n",
              "       '113798', '250644', 'PC 17596', '370375', '13502', '347073',\n",
              "       '239853', 'C.A. 2673', '336439', '347464', '345778', 'A/5. 10482',\n",
              "       '113056', '349239', '345774', '349206', '237798', '370373',\n",
              "       '19877', '11967', 'SC/Paris 2163', '349236', '349233', 'PC 17612',\n",
              "       '2693', '113781', '19988', '9234', '367226', '226593', 'A/5 2466',\n",
              "       '17421', 'PC 17758', 'P/PP 3381', 'PC 17485', '11767', 'PC 17608',\n",
              "       '250651', '349243', 'F.C.C. 13529', '347470', '29011', '36928',\n",
              "       '16966', 'A/5 21172', '349219', '234818', '345364', '28551',\n",
              "       '111361', '113043', 'PC 17611', '349225', '7598', '113784',\n",
              "       '248740', '244361', '229236', '248733', '31418', '386525',\n",
              "       'C.A. 37671', '315088', '7267', '113510', '2695', '2647', '345783',\n",
              "       '237671', '330931', '330980', 'SC/PARIS 2167', '2691',\n",
              "       'SOTON/O.Q. 3101310', 'C 7076', '110813', '2626', '14313',\n",
              "       'PC 17477', '11765', '3101267', '323951', 'C 7077', '113503',\n",
              "       '2648', '347069', 'PC 17757', '2653', 'STON/O 2. 3101293',\n",
              "       '349227', '27849', '367655', 'SC 1748', '113760', '350034',\n",
              "       '3101277', '350052', '350407', '28403', '244278', '240929',\n",
              "       'STON/O 2. 3101289', '341826', '4137', '315096', '28664', '347064',\n",
              "       '29106', '312992', '349222', '394140', 'STON/O 2. 3101269',\n",
              "       '343095', '28220', '250652', '28228', '345773', '349254',\n",
              "       'A/5. 13032', '315082', '347080', 'A/4. 34244', '2003', '250655',\n",
              "       '364851', 'SOTON/O.Q. 392078', '110564', '376564', 'SC/AH 3085',\n",
              "       'STON/O 2. 3101274', '13507', 'C.A. 18723', '345769', '347076',\n",
              "       '230434', '65306', '33638', '113794', '2666', '113786', '65303',\n",
              "       '113051', '17453', 'A/5 2817', '349240', '13509', '17464',\n",
              "       'F.C.C. 13531', '371060', '19952', '364506', '111320', '234360',\n",
              "       'A/S 2816', 'SOTON/O.Q. 3101306', '113792', '36209', '323592',\n",
              "       '315089', 'SC/AH Basle 541', '7553', '31027', '3460', '350060',\n",
              "       '3101298', '239854', 'A/5 3594', '4134', '11771', 'A.5. 18509',\n",
              "       '65304', 'SOTON/OQ 3101317', '113787', 'PC 17609', 'A/4 45380',\n",
              "       '36947', 'C.A. 6212', '350035', '315086', '364846', '330909',\n",
              "       '4135', '26360', '111427', 'C 4001', '382651', 'SOTON/OQ 3101316',\n",
              "       'PC 17473', 'PC 17603', '349209', '36967', 'C.A. 34260', '226875',\n",
              "       '349242', '12749', '349252', '2624', '2700', '367232',\n",
              "       'W./C. 14258', 'PC 17483', '3101296', '29104', '2641', '2690',\n",
              "       '315084', '113050', 'PC 17761', '364498', '13568', 'WE/P 5735',\n",
              "       '2908', '693', 'SC/PARIS 2146', '244358', '330979', '2620',\n",
              "       '347085', '113807', '11755', '345572', '372622', '349251',\n",
              "       '218629', 'SOTON/OQ 392082', 'SOTON/O.Q. 392087', 'A/4 48871',\n",
              "       '349205', '2686', '350417', 'S.W./PP 752', '11769', 'PC 17474',\n",
              "       '14312', 'A/4. 20589', '358585', '243880', '2689',\n",
              "       'STON/O 2. 3101286', '237789', '13049', '3411', '237565', '13567',\n",
              "       '14973', 'A./5. 3235', 'STON/O 2. 3101273', 'A/5 3902', '364848',\n",
              "       'SC/AH 29037', '248727', '2664', '349214', '113796', '364511',\n",
              "       '111426', '349910', '349246', '113804', 'SOTON/O.Q. 3101305',\n",
              "       '370377', '364512', '220845', '31028', '2659', '11753', '350029',\n",
              "       '54636', '36963', '219533', '349224', '334912', '27042', '347743',\n",
              "       '13214', '112052', '237668', 'STON/O 2. 3101292', '350050',\n",
              "       '349231', '13213', 'S.O./P.P. 751', 'CA. 2314', '349221', '8475',\n",
              "       '330919', '365226', '349223', '29751', '2623', '5727', '349210',\n",
              "       'STON/O 2. 3101285', '234686', '312993', 'A/5 3536', '19996',\n",
              "       '29750', 'F.C. 12750', 'C.A. 24580', '244270', '239856', '349912',\n",
              "       '342826', '4138', '330935', '6563', '349228', '350036', '24160',\n",
              "       '17474', '349256', '2672', '113800', '248731', '363592', '35852',\n",
              "       '348121', 'PC 17475', '36864', '350025', '223596', 'PC 17476',\n",
              "       'PC 17482', '113028', '7545', '250647', '348124', '34218', '36568',\n",
              "       '347062', '350048', '12233', '250643', '113806', '315094', '36866',\n",
              "       '236853', 'STON/O2. 3101271', '239855', '28425', '233639',\n",
              "       '349201', '349218', '16988', '376566', 'STON/O 2. 3101288',\n",
              "       '250648', '113773', '335097', '29103', '392096', '345780',\n",
              "       '349204', '350042', '29108', '363294', 'SOTON/O2 3101272', '2663',\n",
              "       '347074', '112379', '364850', '8471', '345781', '350047',\n",
              "       'S.O./P.P. 3', '2674', '29105', '347078', '383121', '36865',\n",
              "       '2687', '113501', 'W./C. 6607', 'SOTON/O.Q. 3101312', '374887',\n",
              "       '3101265', '12460', 'PC 17600', '349203', '28213', '17465',\n",
              "       '349244', '2685', '2625', '347089', '347063', '112050', '347087',\n",
              "       '248723', '3474', '28206', '364499', '112058', 'STON/O2. 3101290',\n",
              "       'S.C./PARIS 2079', 'C 7075', '315098', '19972', '368323', '367228',\n",
              "       '2671', '347468', '2223', 'PC 17756', '315097', '392092', '11774',\n",
              "       'SOTON/O2 3101287', '2683', '315090', 'C.A. 5547', '349213',\n",
              "       '347060', 'PC 17592', '392091', '113055', '2629', '350026',\n",
              "       '28134', '17466', '233866', '236852', 'SC/PARIS 2149', 'PC 17590',\n",
              "       '345777', '349248', '695', '345765', '2667', '349212', '349217',\n",
              "       '349257', '7552', 'C.A./SOTON 34068', 'SOTON/OQ 392076', '211536',\n",
              "       '112053', '111369', '370376'], dtype=object)"
            ]
          },
          "metadata": {},
          "execution_count": 147
        }
      ],
      "source": [
        "X['Ticket'].unique()"
      ]
    },
    {
      "cell_type": "code",
      "execution_count": 148,
      "id": "748f8527",
      "metadata": {
        "execution": {
          "iopub.execute_input": "2024-01-25T21:39:31.090254Z",
          "iopub.status.busy": "2024-01-25T21:39:31.089903Z",
          "iopub.status.idle": "2024-01-25T21:39:31.098607Z",
          "shell.execute_reply": "2024-01-25T21:39:31.096838Z"
        },
        "papermill": {
          "duration": 0.024898,
          "end_time": "2024-01-25T21:39:31.101182",
          "exception": false,
          "start_time": "2024-01-25T21:39:31.076284",
          "status": "completed"
        },
        "tags": [],
        "colab": {
          "base_uri": "https://localhost:8080/"
        },
        "id": "748f8527",
        "outputId": "ff25b00f-2b54-4a6a-d268-759561aac0da"
      },
      "outputs": [
        {
          "output_type": "execute_result",
          "data": {
            "text/plain": [
              "array([  7.25  ,  71.2833,   7.925 ,  53.1   ,   8.05  ,   8.4583,\n",
              "        51.8625,  21.075 ,  11.1333,  30.0708,  16.7   ,  26.55  ,\n",
              "        31.275 ,   7.8542,  16.    ,  29.125 ,  13.    ,  18.    ,\n",
              "         7.225 ,  26.    ,   8.0292,  35.5   ,  31.3875, 263.    ,\n",
              "         7.8792,   7.8958,  27.7208, 146.5208,   7.75  ,  10.5   ,\n",
              "        82.1708,  52.    ,   7.2292,  11.2417,   9.475 ,  21.    ,\n",
              "        41.5792,  15.5   ,  21.6792,  17.8   ,  39.6875,   7.8   ,\n",
              "        76.7292,  61.9792,  27.75  ,  46.9   ,  80.    ,  83.475 ,\n",
              "        27.9   ,  15.2458,   8.1583,   8.6625,  73.5   ,  14.4542,\n",
              "        56.4958,   7.65  ,  29.    ,  12.475 ,   9.    ,   9.5   ,\n",
              "         7.7875,  47.1   ,  15.85  ,  34.375 ,  61.175 ,  20.575 ,\n",
              "        34.6542,  63.3583,  23.    ,  77.2875,   8.6542,   7.775 ,\n",
              "        24.15  ,   9.825 ,  14.4583, 247.5208,   7.1417,  22.3583,\n",
              "         6.975 ,   7.05  ,  14.5   ,  15.0458,  26.2833,   9.2167,\n",
              "        79.2   ,   6.75  ,  11.5   ,  36.75  ,   7.7958,  12.525 ,\n",
              "        66.6   ,   7.3125,  61.3792,   7.7333,  69.55  ,  16.1   ,\n",
              "        15.75  ,  20.525 ,  55.    ,  25.925 ,  33.5   ,  30.6958,\n",
              "        25.4667,  28.7125,   0.    ,  15.05  ,  39.    ,  22.025 ,\n",
              "        50.    ,   8.4042,   6.4958,  10.4625,  18.7875,  31.    ,\n",
              "       113.275 ,  27.    ,  76.2917,  90.    ,   9.35  ,  13.5   ,\n",
              "         7.55  ,  26.25  ,  12.275 ,   7.125 ,  52.5542,  20.2125,\n",
              "        86.5   , 512.3292,  79.65  , 153.4625, 135.6333,  19.5   ,\n",
              "        29.7   ,  77.9583,  20.25  ,  78.85  ,  91.0792,  12.875 ,\n",
              "         8.85  , 151.55  ,  30.5   ,  23.25  ,  12.35  , 110.8833,\n",
              "       108.9   ,  24.    ,  56.9292,  83.1583, 262.375 ,  14.    ,\n",
              "       164.8667, 134.5   ,   6.2375,  57.9792,  28.5   , 133.65  ,\n",
              "        15.9   ,   9.225 ,  35.    ,  75.25  ,  69.3   ,  55.4417,\n",
              "       211.5   ,   4.0125, 227.525 ,  15.7417,   7.7292,  12.    ,\n",
              "       120.    ,  12.65  ,  18.75  ,   6.8583,  32.5   ,   7.875 ,\n",
              "        14.4   ,  55.9   ,   8.1125,  81.8583,  19.2583,  19.9667,\n",
              "        89.1042,  38.5   ,   7.725 ,  13.7917,   9.8375,   7.0458,\n",
              "         7.5208,  12.2875,   9.5875,  49.5042,  78.2667,  15.1   ,\n",
              "         7.6292,  22.525 ,  26.2875,  59.4   ,   7.4958,  34.0208,\n",
              "        93.5   , 221.7792, 106.425 ,  49.5   ,  71.    ,  13.8625,\n",
              "         7.8292,  39.6   ,  17.4   ,  51.4792,  26.3875,  30.    ,\n",
              "        40.125 ,   8.7125,  15.    ,  33.    ,  42.4   ,  15.55  ,\n",
              "        65.    ,  32.3208,   7.0542,   8.4333,  25.5875,   9.8417,\n",
              "         8.1375,  10.1708, 211.3375,  57.    ,  13.4167,   7.7417,\n",
              "         9.4833,   7.7375,   8.3625,  23.45  ,  25.9292,   8.6833,\n",
              "         8.5167,   7.8875,  37.0042,   6.45  ,   6.95  ,   8.3   ,\n",
              "         6.4375,  39.4   ,  14.1083,  13.8583,  50.4958,   5.    ,\n",
              "         9.8458,  10.5167])"
            ]
          },
          "metadata": {},
          "execution_count": 148
        }
      ],
      "source": [
        "X['Fare'].unique()"
      ]
    },
    {
      "cell_type": "code",
      "execution_count": 149,
      "id": "0e9d4641",
      "metadata": {
        "execution": {
          "iopub.execute_input": "2024-01-25T21:39:31.127869Z",
          "iopub.status.busy": "2024-01-25T21:39:31.127524Z",
          "iopub.status.idle": "2024-01-25T21:39:31.134868Z",
          "shell.execute_reply": "2024-01-25T21:39:31.133731Z"
        },
        "papermill": {
          "duration": 0.022985,
          "end_time": "2024-01-25T21:39:31.136626",
          "exception": false,
          "start_time": "2024-01-25T21:39:31.113641",
          "status": "completed"
        },
        "tags": [],
        "colab": {
          "base_uri": "https://localhost:8080/"
        },
        "id": "0e9d4641",
        "outputId": "db768a1b-e320-4cab-9150-7204193ea1ed"
      },
      "outputs": [
        {
          "output_type": "execute_result",
          "data": {
            "text/plain": [
              "0"
            ]
          },
          "metadata": {},
          "execution_count": 149
        }
      ],
      "source": [
        "X['Fare'].isnull().sum()"
      ]
    },
    {
      "cell_type": "code",
      "execution_count": 150,
      "id": "f648b7dd",
      "metadata": {
        "execution": {
          "iopub.execute_input": "2024-01-25T21:39:31.162706Z",
          "iopub.status.busy": "2024-01-25T21:39:31.161728Z",
          "iopub.status.idle": "2024-01-25T21:39:31.583425Z",
          "shell.execute_reply": "2024-01-25T21:39:31.582612Z"
        },
        "papermill": {
          "duration": 0.43633,
          "end_time": "2024-01-25T21:39:31.585045",
          "exception": false,
          "start_time": "2024-01-25T21:39:31.148715",
          "status": "completed"
        },
        "tags": [],
        "colab": {
          "base_uri": "https://localhost:8080/",
          "height": 523
        },
        "id": "f648b7dd",
        "outputId": "370d80d1-41c8-4600-cc81-f619741da0cf"
      },
      "outputs": [
        {
          "output_type": "execute_result",
          "data": {
            "text/plain": [
              "<Axes: >"
            ]
          },
          "metadata": {},
          "execution_count": 150
        },
        {
          "output_type": "display_data",
          "data": {
            "text/plain": [
              "<Figure size 640x480 with 2 Axes>"
            ],
            "image/png": "[encoded data removed]"
          },
          "metadata": {}
        }
      ],
      "source": [
        "sns.heatmap(X.isnull())"
      ]
    },
    {
      "cell_type": "markdown",
      "id": "7fadfec1",
      "metadata": {
        "papermill": {
          "duration": 0.011849,
          "end_time": "2024-01-25T21:39:31.609291",
          "exception": false,
          "start_time": "2024-01-25T21:39:31.597442",
          "status": "completed"
        },
        "tags": [],
        "id": "7fadfec1"
      },
      "source": [
        "# Data Cleaning"
      ]
    },
    {
      "cell_type": "markdown",
      "id": "1575a04a",
      "metadata": {
        "papermill": {
          "duration": 0.011605,
          "end_time": "2024-01-25T21:39:31.633050",
          "exception": false,
          "start_time": "2024-01-25T21:39:31.621445",
          "status": "completed"
        },
        "tags": [],
        "id": "1575a04a"
      },
      "source": [
        "**We gonna drop some useless columns**\n",
        "- Cabin\n",
        "- Name\n",
        "- Ticket\n",
        "- PassengerId\n",
        "\n",
        "`` these columns won't give the model any information ``"
      ]
    },
    {
      "cell_type": "markdown",
      "source": [
        "def clean(X):\n",
        "    X.drop(['Cabin','Name','Ticket'],axis=1,inplace=True)\n",
        "    missing_num_col=[col for col in X.columns\n",
        "                    if X[col].isnull().any() and X[col].dtype in ['float64','int64'] ]\n",
        "    X[missing_num_col] = SimpleImputer(strategy='median').fit_transform(X[missing_num_col])\n",
        "\n",
        "    return X"
      ],
      "metadata": {
        "id": "70fb3a28"
      },
      "id": "70fb3a28"
    },
    {
      "cell_type": "code",
      "execution_count": 151,
      "id": "1f136d09",
      "metadata": {
        "execution": {
          "iopub.execute_input": "2024-01-25T21:39:31.692986Z",
          "iopub.status.busy": "2024-01-25T21:39:31.692566Z",
          "iopub.status.idle": "2024-01-25T21:39:31.719094Z",
          "shell.execute_reply": "2024-01-25T21:39:31.718147Z"
        },
        "papermill": {
          "duration": 0.041845,
          "end_time": "2024-01-25T21:39:31.720747",
          "exception": false,
          "start_time": "2024-01-25T21:39:31.678902",
          "status": "completed"
        },
        "tags": [],
        "id": "1f136d09"
      },
      "outputs": [],
      "source": [
        "clean(X)"
      ]
    },
    {
      "cell_type": "markdown",
      "id": "069a5008",
      "metadata": {
        "papermill": {
          "duration": 0.013532,
          "end_time": "2024-01-25T21:39:31.748265",
          "exception": false,
          "start_time": "2024-01-25T21:39:31.734733",
          "status": "completed"
        },
        "tags": [],
        "id": "069a5008"
      },
      "source": [
        "# Data Anayltics\n",
        "- Most of men die\n",
        "- Most of Pclass = 3 die (its important in our Data)\n",
        "- Most of ages around 30"
      ]
    },
    {
      "cell_type": "markdown",
      "id": "7e378f91",
      "metadata": {
        "papermill": {
          "duration": 0.012937,
          "end_time": "2024-01-25T21:39:31.774265",
          "exception": false,
          "start_time": "2024-01-25T21:39:31.761328",
          "status": "completed"
        },
        "tags": [],
        "id": "7e378f91"
      },
      "source": [
        "1. **we will see the correation between the features to see the important features**"
      ]
    },
    {
      "cell_type": "code",
      "execution_count": 152,
      "id": "fd765602",
      "metadata": {
        "execution": {
          "iopub.execute_input": "2024-01-25T21:39:31.802723Z",
          "iopub.status.busy": "2024-01-25T21:39:31.802041Z",
          "iopub.status.idle": "2024-01-25T21:39:31.809288Z",
          "shell.execute_reply": "2024-01-25T21:39:31.808395Z"
        },
        "papermill": {
          "duration": 0.024244,
          "end_time": "2024-01-25T21:39:31.811746",
          "exception": false,
          "start_time": "2024-01-25T21:39:31.787502",
          "status": "completed"
        },
        "tags": [],
        "id": "fd765602"
      },
      "outputs": [],
      "source": [
        "numric_data=X.select_dtypes(exclude='object')\n",
        "cor=numric_data.corr()"
      ]
    },
    {
      "cell_type": "code",
      "execution_count": 153,
      "id": "ba4a1bd5",
      "metadata": {
        "execution": {
          "iopub.execute_input": "2024-01-25T21:39:31.841037Z",
          "iopub.status.busy": "2024-01-25T21:39:31.840502Z",
          "iopub.status.idle": "2024-01-25T21:39:32.145899Z",
          "shell.execute_reply": "2024-01-25T21:39:32.144755Z"
        },
        "papermill": {
          "duration": 0.323175,
          "end_time": "2024-01-25T21:39:32.148043",
          "exception": false,
          "start_time": "2024-01-25T21:39:31.824868",
          "status": "completed"
        },
        "tags": [],
        "colab": {
          "base_uri": "https://localhost:8080/",
          "height": 452
        },
        "id": "ba4a1bd5",
        "outputId": "93a7a5e5-c547-4126-bd1a-b7262de2f727"
      },
      "outputs": [
        {
          "output_type": "execute_result",
          "data": {
            "text/plain": [
              "<Axes: >"
            ]
          },
          "metadata": {},
          "execution_count": 153
        },
        {
          "output_type": "display_data",
          "data": {
            "text/plain": [
              "<Figure size 640x480 with 2 Axes>"
            ],
            "image/png": "[encoded data removed]"
          },
          "metadata": {}
        }
      ],
      "source": [
        "sns.heatmap(cor.rank(axis='columns'),annot=True,fmt='.1f',linewidth=.5)"
      ]
    },
    {
      "cell_type": "code",
      "execution_count": 154,
      "id": "83db0e91",
      "metadata": {
        "execution": {
          "iopub.execute_input": "2024-01-25T21:39:32.177964Z",
          "iopub.status.busy": "2024-01-25T21:39:32.176865Z",
          "iopub.status.idle": "2024-01-25T21:39:32.296757Z",
          "shell.execute_reply": "2024-01-25T21:39:32.296138Z"
        },
        "papermill": {
          "duration": 0.13624,
          "end_time": "2024-01-25T21:39:32.298646",
          "exception": false,
          "start_time": "2024-01-25T21:39:32.162406",
          "status": "completed"
        },
        "tags": [],
        "colab": {
          "base_uri": "https://localhost:8080/",
          "height": 423
        },
        "id": "83db0e91",
        "outputId": "4fe78a8a-6ea7-4d15-9a45-f9c41e430ba9"
      },
      "outputs": [
        {
          "output_type": "execute_result",
          "data": {
            "text/plain": [
              "<Axes: ylabel='count'>"
            ]
          },
          "metadata": {},
          "execution_count": 154
        },
        {
          "output_type": "display_data",
          "data": {
            "text/plain": [
              "<Figure size 640x480 with 1 Axes>"
            ],
            "image/png": "[encoded data removed]"
          },
          "metadata": {}
        }
      ],
      "source": [
        "X['Survived'].value_counts().plot.pie(autopct='%0.2f%%')"
      ]
    },
    {
      "cell_type": "code",
      "execution_count": 155,
      "id": "7e4ac8b7",
      "metadata": {
        "execution": {
          "iopub.execute_input": "2024-01-25T21:39:32.335984Z",
          "iopub.status.busy": "2024-01-25T21:39:32.335653Z",
          "iopub.status.idle": "2024-01-25T21:39:32.421697Z",
          "shell.execute_reply": "2024-01-25T21:39:32.420870Z"
        },
        "papermill": {
          "duration": 0.106119,
          "end_time": "2024-01-25T21:39:32.423434",
          "exception": false,
          "start_time": "2024-01-25T21:39:32.317315",
          "status": "completed"
        },
        "tags": [],
        "colab": {
          "base_uri": "https://localhost:8080/",
          "height": 423
        },
        "id": "7e4ac8b7",
        "outputId": "d3dbb938-044f-4d23-f3d8-187bcbe5289b"
      },
      "outputs": [
        {
          "output_type": "execute_result",
          "data": {
            "text/plain": [
              "<Axes: ylabel='count'>"
            ]
          },
          "metadata": {},
          "execution_count": 155
        },
        {
          "output_type": "display_data",
          "data": {
            "text/plain": [
              "<Figure size 640x480 with 1 Axes>"
            ],
            "image/png": "[encoded data removed]"
          },
          "metadata": {}
        }
      ],
      "source": [
        "X.Sex.value_counts().plot.pie(autopct='%0.2f%%')"
      ]
    },
    {
      "cell_type": "code",
      "execution_count": 156,
      "id": "0aca84f2",
      "metadata": {
        "execution": {
          "iopub.execute_input": "2024-01-25T21:39:32.453647Z",
          "iopub.status.busy": "2024-01-25T21:39:32.452686Z",
          "iopub.status.idle": "2024-01-25T21:39:32.601157Z",
          "shell.execute_reply": "2024-01-25T21:39:32.600288Z"
        },
        "papermill": {
          "duration": 0.165843,
          "end_time": "2024-01-25T21:39:32.603219",
          "exception": false,
          "start_time": "2024-01-25T21:39:32.437376",
          "status": "completed"
        },
        "tags": [],
        "colab": {
          "base_uri": "https://localhost:8080/",
          "height": 466
        },
        "id": "0aca84f2",
        "outputId": "bf563cc3-0ffb-47a0-a608-6d8fd276f40d"
      },
      "outputs": [
        {
          "output_type": "execute_result",
          "data": {
            "text/plain": [
              "<Axes: xlabel='Sex', ylabel='count'>"
            ]
          },
          "metadata": {},
          "execution_count": 156
        },
        {
          "output_type": "display_data",
          "data": {
            "text/plain": [
              "<Figure size 640x480 with 1 Axes>"
            ],
            "image/png": "[encoded data removed]"
          },
          "metadata": {}
        }
      ],
      "source": [
        "sns.countplot(x='Sex',data=X,hue=X['Survived'])\n",
        "#"
      ]
    },
    {
      "cell_type": "code",
      "execution_count": 157,
      "id": "def2b512",
      "metadata": {
        "execution": {
          "iopub.execute_input": "2024-01-25T21:39:32.633745Z",
          "iopub.status.busy": "2024-01-25T21:39:32.633414Z",
          "iopub.status.idle": "2024-01-25T21:39:32.813112Z",
          "shell.execute_reply": "2024-01-25T21:39:32.811979Z"
        },
        "papermill": {
          "duration": 0.198127,
          "end_time": "2024-01-25T21:39:32.815881",
          "exception": false,
          "start_time": "2024-01-25T21:39:32.617754",
          "status": "completed"
        },
        "tags": [],
        "colab": {
          "base_uri": "https://localhost:8080/",
          "height": 466
        },
        "id": "def2b512",
        "outputId": "1ff99e92-3ff6-4557-87c5-fea319096585"
      },
      "outputs": [
        {
          "output_type": "execute_result",
          "data": {
            "text/plain": [
              "<Axes: xlabel='Pclass', ylabel='count'>"
            ]
          },
          "metadata": {},
          "execution_count": 157
        },
        {
          "output_type": "display_data",
          "data": {
            "text/plain": [
              "<Figure size 640x480 with 1 Axes>"
            ],
            "image/png": "[encoded data removed]"
          },
          "metadata": {}
        }
      ],
      "source": [
        "sns.countplot(x='Pclass',data=X,hue=X['Survived'])"
      ]
    },
    {
      "cell_type": "code",
      "execution_count": 158,
      "id": "135b858e",
      "metadata": {
        "execution": {
          "iopub.execute_input": "2024-01-25T21:39:32.846257Z",
          "iopub.status.busy": "2024-01-25T21:39:32.845888Z",
          "iopub.status.idle": "2024-01-25T21:39:33.075506Z",
          "shell.execute_reply": "2024-01-25T21:39:33.074676Z"
        },
        "papermill": {
          "duration": 0.247154,
          "end_time": "2024-01-25T21:39:33.077738",
          "exception": false,
          "start_time": "2024-01-25T21:39:32.830584",
          "status": "completed"
        },
        "tags": [],
        "colab": {
          "base_uri": "https://localhost:8080/",
          "height": 466
        },
        "id": "135b858e",
        "outputId": "46b6a3bb-43c7-4701-8ec1-f74604a5df19"
      },
      "outputs": [
        {
          "output_type": "execute_result",
          "data": {
            "text/plain": [
              "<Axes: xlabel='Age', ylabel='Count'>"
            ]
          },
          "metadata": {},
          "execution_count": 158
        },
        {
          "output_type": "display_data",
          "data": {
            "text/plain": [
              "<Figure size 640x480 with 1 Axes>"
            ],
            "image/png": "[encoded data removed]"
          },
          "metadata": {}
        }
      ],
      "source": [
        "sns.histplot(X['Age'])"
      ]
    },
    {
      "cell_type": "code",
      "execution_count": 159,
      "id": "cba5ffae",
      "metadata": {
        "execution": {
          "iopub.execute_input": "2024-01-25T21:39:33.110262Z",
          "iopub.status.busy": "2024-01-25T21:39:33.108756Z",
          "iopub.status.idle": "2024-01-25T21:39:33.414891Z",
          "shell.execute_reply": "2024-01-25T21:39:33.413565Z"
        },
        "papermill": {
          "duration": 0.324109,
          "end_time": "2024-01-25T21:39:33.416842",
          "exception": false,
          "start_time": "2024-01-25T21:39:33.092733",
          "status": "completed"
        },
        "tags": [],
        "colab": {
          "base_uri": "https://localhost:8080/",
          "height": 466
        },
        "id": "cba5ffae",
        "outputId": "c255c4a2-8c66-40d2-8609-c1bd6aa9d2e3"
      },
      "outputs": [
        {
          "output_type": "execute_result",
          "data": {
            "text/plain": [
              "<Axes: xlabel='Fare', ylabel='Count'>"
            ]
          },
          "metadata": {},
          "execution_count": 159
        },
        {
          "output_type": "display_data",
          "data": {
            "text/plain": [
              "<Figure size 640x480 with 1 Axes>"
            ],
            "image/png": "[encoded data removed]"
          },
          "metadata": {}
        }
      ],
      "source": [
        "sns.histplot(X['Fare'])"
      ]
    },
    {
      "cell_type": "markdown",
      "id": "9e83d5f6",
      "metadata": {
        "papermill": {
          "duration": 0.01551,
          "end_time": "2024-01-25T21:39:33.447764",
          "exception": false,
          "start_time": "2024-01-25T21:39:33.432254",
          "status": "completed"
        },
        "tags": [],
        "id": "9e83d5f6"
      },
      "source": [
        "# Transoform the catgorical Data"
      ]
    },
    {
      "cell_type": "code",
      "execution_count": 160,
      "id": "bd8ac3ea",
      "metadata": {
        "execution": {
          "iopub.execute_input": "2024-01-25T21:39:33.479500Z",
          "iopub.status.busy": "2024-01-25T21:39:33.479175Z",
          "iopub.status.idle": "2024-01-25T21:39:33.488316Z",
          "shell.execute_reply": "2024-01-25T21:39:33.487415Z"
        },
        "papermill": {
          "duration": 0.02719,
          "end_time": "2024-01-25T21:39:33.489948",
          "exception": false,
          "start_time": "2024-01-25T21:39:33.462758",
          "status": "completed"
        },
        "tags": [],
        "id": "bd8ac3ea"
      },
      "outputs": [],
      "source": [
        "X['Sex'] = X['Sex'].map({'male': 0, 'female': 1})\n",
        "X=pd.get_dummies(X, columns=['Embarked'], drop_first=True)"
      ]
    },
    {
      "cell_type": "code",
      "execution_count": 161,
      "id": "bb4b264b",
      "metadata": {
        "execution": {
          "iopub.execute_input": "2024-01-25T21:39:33.523404Z",
          "iopub.status.busy": "2024-01-25T21:39:33.522806Z",
          "iopub.status.idle": "2024-01-25T21:39:33.537933Z",
          "shell.execute_reply": "2024-01-25T21:39:33.536642Z"
        },
        "papermill": {
          "duration": 0.034508,
          "end_time": "2024-01-25T21:39:33.540209",
          "exception": false,
          "start_time": "2024-01-25T21:39:33.505701",
          "status": "completed"
        },
        "tags": [],
        "colab": {
          "base_uri": "https://localhost:8080/",
          "height": 424
        },
        "id": "bb4b264b",
        "outputId": "90106e12-6b9b-4fc0-d876-80f537436550"
      },
      "outputs": [
        {
          "output_type": "execute_result",
          "data": {
            "text/plain": [
              "     Survived  Pclass  Sex   Age  SibSp  Parch     Fare  Embarked_Q  \\\n",
              "0           0       3    0  22.0      1      0   7.2500       False   \n",
              "1           1       1    1  38.0      1      0  71.2833       False   \n",
              "2           1       3    1  26.0      0      0   7.9250       False   \n",
              "3           1       1    1  35.0      1      0  53.1000       False   \n",
              "4           0       3    0  35.0      0      0   8.0500       False   \n",
              "..        ...     ...  ...   ...    ...    ...      ...         ...   \n",
              "886         0       2    0  27.0      0      0  13.0000       False   \n",
              "887         1       1    1  19.0      0      0  30.0000       False   \n",
              "888         0       3    1   NaN      1      2  23.4500       False   \n",
              "889         1       1    0  26.0      0      0  30.0000       False   \n",
              "890         0       3    0  32.0      0      0   7.7500        True   \n",
              "\n",
              "     Embarked_S  \n",
              "0          True  \n",
              "1         False  \n",
              "2          True  \n",
              "3          True  \n",
              "4          True  \n",
              "..          ...  \n",
              "886        True  \n",
              "887        True  \n",
              "888        True  \n",
              "889       False  \n",
              "890       False  \n",
              "\n",
              "[891 rows x 9 columns]"
            ],
            "text/html": [
              "\n",
              "  <div id=\"df-ac5a1c42-b1ec-458e-8552-07370321b351\" class=\"colab-df-container\">\n",
              "    <div>\n",
              "<style scoped>\n",
              "    .dataframe tbody tr th:only-of-type {\n",
              "        vertical-align: middle;\n",
              "    }\n",
              "\n",
              "    .dataframe tbody tr th {\n",
              "        vertical-align: top;\n",
              "    }\n",
              "\n",
              "    .dataframe thead th {\n",
              "        text-align: right;\n",
              "    }\n",
              "</style>\n",
              "<table border=\"1\" class=\"dataframe\">\n",
              "  <thead>\n",
              "    <tr style=\"text-align: right;\">\n",
              "      <th></th>\n",
              "      <th>Survived</th>\n",
              "      <th>Pclass</th>\n",
              "      <th>Sex</th>\n",
              "      <th>Age</th>\n",
              "      <th>SibSp</th>\n",
              "      <th>Parch</th>\n",
              "      <th>Fare</th>\n",
              "      <th>Embarked_Q</th>\n",
              "      <th>Embarked_S</th>\n",
              "    </tr>\n",
              "  </thead>\n",
              "  <tbody>\n",
              "    <tr>\n",
              "      <th>0</th>\n",
              "      <td>0</td>\n",
              "      <td>3</td>\n",
              "      <td>0</td>\n",
              "      <td>22.0</td>\n",
              "      <td>1</td>\n",
              "      <td>0</td>\n",
              "      <td>7.2500</td>\n",
              "      <td>False</td>\n",
              "      <td>True</td>\n",
              "    </tr>\n",
              "    <tr>\n",
              "      <th>1</th>\n",
              "      <td>1</td>\n",
              "      <td>1</td>\n",
              "      <td>1</td>\n",
              "      <td>38.0</td>\n",
              "      <td>1</td>\n",
              "      <td>0</td>\n",
              "      <td>71.2833</td>\n",
              "      <td>False</td>\n",
              "      <td>False</td>\n",
              "    </tr>\n",
              "    <tr>\n",
              "      <th>2</th>\n",
              "      <td>1</td>\n",
              "      <td>3</td>\n",
              "      <td>1</td>\n",
              "      <td>26.0</td>\n",
              "      <td>0</td>\n",
              "      <td>0</td>\n",
              "      <td>7.9250</td>\n",
              "      <td>False</td>\n",
              "      <td>True</td>\n",
              "    </tr>\n",
              "    <tr>\n",
              "      <th>3</th>\n",
              "      <td>1</td>\n",
              "      <td>1</td>\n",
              "      <td>1</td>\n",
              "      <td>35.0</td>\n",
              "      <td>1</td>\n",
              "      <td>0</td>\n",
              "      <td>53.1000</td>\n",
              "      <td>False</td>\n",
              "      <td>True</td>\n",
              "    </tr>\n",
              "    <tr>\n",
              "      <th>4</th>\n",
              "      <td>0</td>\n",
              "      <td>3</td>\n",
              "      <td>0</td>\n",
              "      <td>35.0</td>\n",
              "      <td>0</td>\n",
              "      <td>0</td>\n",
              "      <td>8.0500</td>\n",
              "      <td>False</td>\n",
              "      <td>True</td>\n",
              "    </tr>\n",
              "    <tr>\n",
              "      <th>...</th>\n",
              "      <td>...</td>\n",
              "      <td>...</td>\n",
              "      <td>...</td>\n",
              "      <td>...</td>\n",
              "      <td>...</td>\n",
              "      <td>...</td>\n",
              "      <td>...</td>\n",
              "      <td>...</td>\n",
              "      <td>...</td>\n",
              "    </tr>\n",
              "    <tr>\n",
              "      <th>886</th>\n",
              "      <td>0</td>\n",
              "      <td>2</td>\n",
              "      <td>0</td>\n",
              "      <td>27.0</td>\n",
              "      <td>0</td>\n",
              "      <td>0</td>\n",
              "      <td>13.0000</td>\n",
              "      <td>False</td>\n",
              "      <td>True</td>\n",
              "    </tr>\n",
              "    <tr>\n",
              "      <th>887</th>\n",
              "      <td>1</td>\n",
              "      <td>1</td>\n",
              "      <td>1</td>\n",
              "      <td>19.0</td>\n",
              "      <td>0</td>\n",
              "      <td>0</td>\n",
              "      <td>30.0000</td>\n",
              "      <td>False</td>\n",
              "      <td>True</td>\n",
              "    </tr>\n",
              "    <tr>\n",
              "      <th>888</th>\n",
              "      <td>0</td>\n",
              "      <td>3</td>\n",
              "      <td>1</td>\n",
              "      <td>NaN</td>\n",
              "      <td>1</td>\n",
              "      <td>2</td>\n",
              "      <td>23.4500</td>\n",
              "      <td>False</td>\n",
              "      <td>True</td>\n",
              "    </tr>\n",
              "    <tr>\n",
              "      <th>889</th>\n",
              "      <td>1</td>\n",
              "      <td>1</td>\n",
              "      <td>0</td>\n",
              "      <td>26.0</td>\n",
              "      <td>0</td>\n",
              "      <td>0</td>\n",
              "      <td>30.0000</td>\n",
              "      <td>False</td>\n",
              "      <td>False</td>\n",
              "    </tr>\n",
              "    <tr>\n",
              "      <th>890</th>\n",
              "      <td>0</td>\n",
              "      <td>3</td>\n",
              "      <td>0</td>\n",
              "      <td>32.0</td>\n",
              "      <td>0</td>\n",
              "      <td>0</td>\n",
              "      <td>7.7500</td>\n",
              "      <td>True</td>\n",
              "      <td>False</td>\n",
              "    </tr>\n",
              "  </tbody>\n",
              "</table>\n",
              "<p>891 rows × 9 columns</p>\n",
              "</div>\n",
              "    <div class=\"colab-df-buttons\">\n",
              "\n",
              "  <div class=\"colab-df-container\">\n",
              "    <button class=\"colab-df-convert\" onclick=\"convertToInteractive('df-ac5a1c42-b1ec-458e-8552-07370321b351')\"\n",
              "            title=\"Convert this dataframe to an interactive table.\"\n",
              "            style=\"display:none;\">\n",
              "\n",
              "  <svg xmlns=\"http://www.w3.org/2000/svg\" height=\"24px\" viewBox=\"0 -960 960 960\">\n",
              "    <path d=\"M120-120v-720h720v720H120Zm60-500h600v-160H180v160Zm220 220h160v-160H400v160Zm0 220h160v-160H400v160ZM180-400h160v-160H180v160Zm440 0h160v-160H620v160ZM180-180h160v-160H180v160Zm440 0h160v-160H620v160Z\"/>\n",
              "  </svg>\n",
              "    </button>\n",
              "\n",
              "  <style>\n",
              "    .colab-df-container {\n",
              "      display:flex;\n",
              "      gap: 12px;\n",
              "    }\n",
              "\n",
              "    .colab-df-convert {\n",
              "      background-color: #E8F0FE;\n",
              "      border: none;\n",
              "      border-radius: 50%;\n",
              "      cursor: pointer;\n",
              "      display: none;\n",
              "      fill: #1967D2;\n",
              "      height: 32px;\n",
              "      padding: 0 0 0 0;\n",
              "      width: 32px;\n",
              "    }\n",
              "\n",
              "    .colab-df-convert:hover {\n",
              "      background-color: #E2EBFA;\n",
              "      box-shadow: 0px 1px 2px rgba(60, 64, 67, 0.3), 0px 1px 3px 1px rgba(60, 64, 67, 0.15);\n",
              "      fill: #174EA6;\n",
              "    }\n",
              "\n",
              "    .colab-df-buttons div {\n",
              "      margin-bottom: 4px;\n",
              "    }\n",
              "\n",
              "    [theme=dark] .colab-df-convert {\n",
              "      background-color: #3B4455;\n",
              "      fill: #D2E3FC;\n",
              "    }\n",
              "\n",
              "    [theme=dark] .colab-df-convert:hover {\n",
              "      background-color: #434B5C;\n",
              "      box-shadow: 0px 1px 3px 1px rgba(0, 0, 0, 0.15);\n",
              "      filter: drop-shadow(0px 1px 2px rgba(0, 0, 0, 0.3));\n",
              "      fill: #FFFFFF;\n",
              "    }\n",
              "  </style>\n",
              "\n",
              "    <script>\n",
              "      const buttonEl =\n",
              "        document.querySelector('#df-ac5a1c42-b1ec-458e-8552-07370321b351 button.colab-df-convert');\n",
              "      buttonEl.style.display =\n",
              "        google.colab.kernel.accessAllowed ? 'block' : 'none';\n",
              "\n",
              "      async function convertToInteractive(key) {\n",
              "        const element = document.querySelector('#df-ac5a1c42-b1ec-458e-8552-07370321b351');\n",
              "        const dataTable =\n",
              "          await google.colab.kernel.invokeFunction('convertToInteractive',\n",
              "                                                    [key], {});\n",
              "        if (!dataTable) return;\n",
              "\n",
              "        const docLinkHtml = 'Like what you see? Visit the ' +\n",
              "          '<a target=\"_blank\" href=https://colab.research.google.com/notebooks/data_table.ipynb>data table notebook</a>'\n",
              "          + ' to learn more about interactive tables.';\n",
              "        element.innerHTML = '';\n",
              "        dataTable['output_type'] = 'display_data';\n",
              "        await google.colab.output.renderOutput(dataTable, element);\n",
              "        const docLink = document.createElement('div');\n",
              "        docLink.innerHTML = docLinkHtml;\n",
              "        element.appendChild(docLink);\n",
              "      }\n",
              "    </script>\n",
              "  </div>\n",
              "\n",
              "\n",
              "<div id=\"df-2b10857c-ea7b-4889-855d-2aec25ee1839\">\n",
              "  <button class=\"colab-df-quickchart\" onclick=\"quickchart('df-2b10857c-ea7b-4889-855d-2aec25ee1839')\"\n",
              "            title=\"Suggest charts\"\n",
              "            style=\"display:none;\">\n",
              "\n",
              "<svg xmlns=\"http://www.w3.org/2000/svg\" height=\"24px\"viewBox=\"0 0 24 24\"\n",
              "     width=\"24px\">\n",
              "    <g>\n",
              "        <path d=\"M19 3H5c-1.1 0-2 .9-2 2v14c0 1.1.9 2 2 2h14c1.1 0 2-.9 2-2V5c0-1.1-.9-2-2-2zM9 17H7v-7h2v7zm4 0h-2V7h2v10zm4 0h-2v-4h2v4z\"/>\n",
              "    </g>\n",
              "</svg>\n",
              "  </button>\n",
              "\n",
              "<style>\n",
              "  .colab-df-quickchart {\n",
              "      --bg-color: #E8F0FE;\n",
              "      --fill-color: #1967D2;\n",
              "      --hover-bg-color: #E2EBFA;\n",
              "      --hover-fill-color: #174EA6;\n",
              "      --disabled-fill-color: #AAA;\n",
              "      --disabled-bg-color: #DDD;\n",
              "  }\n",
              "\n",
              "  [theme=dark] .colab-df-quickchart {\n",
              "      --bg-color: #3B4455;\n",
              "      --fill-color: #D2E3FC;\n",
              "      --hover-bg-color: #434B5C;\n",
              "      --hover-fill-color: #FFFFFF;\n",
              "      --disabled-bg-color: #3B4455;\n",
              "      --disabled-fill-color: #666;\n",
              "  }\n",
              "\n",
              "  .colab-df-quickchart {\n",
              "    background-color: var(--bg-color);\n",
              "    border: none;\n",
              "    border-radius: 50%;\n",
              "    cursor: pointer;\n",
              "    display: none;\n",
              "    fill: var(--fill-color);\n",
              "    height: 32px;\n",
              "    padding: 0;\n",
              "    width: 32px;\n",
              "  }\n",
              "\n",
              "  .colab-df-quickchart:hover {\n",
              "    background-color: var(--hover-bg-color);\n",
              "    box-shadow: 0 1px 2px rgba(60, 64, 67, 0.3), 0 1px 3px 1px rgba(60, 64, 67, 0.15);\n",
              "    fill: var(--button-hover-fill-color);\n",
              "  }\n",
              "\n",
              "  .colab-df-quickchart-complete:disabled,\n",
              "  .colab-df-quickchart-complete:disabled:hover {\n",
              "    background-color: var(--disabled-bg-color);\n",
              "    fill: var(--disabled-fill-color);\n",
              "    box-shadow: none;\n",
              "  }\n",
              "\n",
              "  .colab-df-spinner {\n",
              "    border: 2px solid var(--fill-color);\n",
              "    border-color: transparent;\n",
              "    border-bottom-color: var(--fill-color);\n",
              "    animation:\n",
              "      spin 1s steps(1) infinite;\n",
              "  }\n",
              "\n",
              "  @keyframes spin {\n",
              "    0% {\n",
              "      border-color: transparent;\n",
              "      border-bottom-color: var(--fill-color);\n",
              "      border-left-color: var(--fill-color);\n",
              "    }\n",
              "    20% {\n",
              "      border-color: transparent;\n",
              "      border-left-color: var(--fill-color);\n",
              "      border-top-color: var(--fill-color);\n",
              "    }\n",
              "    30% {\n",
              "      border-color: transparent;\n",
              "      border-left-color: var(--fill-color);\n",
              "      border-top-color: var(--fill-color);\n",
              "      border-right-color: var(--fill-color);\n",
              "    }\n",
              "    40% {\n",
              "      border-color: transparent;\n",
              "      border-right-color: var(--fill-color);\n",
              "      border-top-color: var(--fill-color);\n",
              "    }\n",
              "    60% {\n",
              "      border-color: transparent;\n",
              "      border-right-color: var(--fill-color);\n",
              "    }\n",
              "    80% {\n",
              "      border-color: transparent;\n",
              "      border-right-color: var(--fill-color);\n",
              "      border-bottom-color: var(--fill-color);\n",
              "    }\n",
              "    90% {\n",
              "      border-color: transparent;\n",
              "      border-bottom-color: var(--fill-color);\n",
              "    }\n",
              "  }\n",
              "</style>\n",
              "\n",
              "  <script>\n",
              "    async function quickchart(key) {\n",
              "      const quickchartButtonEl =\n",
              "        document.querySelector('#' + key + ' button');\n",
              "      quickchartButtonEl.disabled = true;  // To prevent multiple clicks.\n",
              "      quickchartButtonEl.classList.add('colab-df-spinner');\n",
              "      try {\n",
              "        const charts = await google.colab.kernel.invokeFunction(\n",
              "            'suggestCharts', [key], {});\n",
              "      } catch (error) {\n",
              "        console.error('Error during call to suggestCharts:', error);\n",
              "      }\n",
              "      quickchartButtonEl.classList.remove('colab-df-spinner');\n",
              "      quickchartButtonEl.classList.add('colab-df-quickchart-complete');\n",
              "    }\n",
              "    (() => {\n",
              "      let quickchartButtonEl =\n",
              "        document.querySelector('#df-2b10857c-ea7b-4889-855d-2aec25ee1839 button');\n",
              "      quickchartButtonEl.style.display =\n",
              "        google.colab.kernel.accessAllowed ? 'block' : 'none';\n",
              "    })();\n",
              "  </script>\n",
              "</div>\n",
              "\n",
              "  <div id=\"id_27d0cbc4-0b99-47ca-8671-16da9737beec\">\n",
              "    <style>\n",
              "      .colab-df-generate {\n",
              "        background-color: #E8F0FE;\n",
              "        border: none;\n",
              "        border-radius: 50%;\n",
              "        cursor: pointer;\n",
              "        display: none;\n",
              "        fill: #1967D2;\n",
              "        height: 32px;\n",
              "        padding: 0 0 0 0;\n",
              "        width: 32px;\n",
              "      }\n",
              "\n",
              "      .colab-df-generate:hover {\n",
              "        background-color: #E2EBFA;\n",
              "        box-shadow: 0px 1px 2px rgba(60, 64, 67, 0.3), 0px 1px 3px 1px rgba(60, 64, 67, 0.15);\n",
              "        fill: #174EA6;\n",
              "      }\n",
              "\n",
              "      [theme=dark] .colab-df-generate {\n",
              "        background-color: #3B4455;\n",
              "        fill: #D2E3FC;\n",
              "      }\n",
              "\n",
              "      [theme=dark] .colab-df-generate:hover {\n",
              "        background-color: #434B5C;\n",
              "        box-shadow: 0px 1px 3px 1px rgba(0, 0, 0, 0.15);\n",
              "        filter: drop-shadow(0px 1px 2px rgba(0, 0, 0, 0.3));\n",
              "        fill: #FFFFFF;\n",
              "      }\n",
              "    </style>\n",
              "    <button class=\"colab-df-generate\" onclick=\"generateWithVariable('X')\"\n",
              "            title=\"Generate code using this dataframe.\"\n",
              "            style=\"display:none;\">\n",
              "\n",
              "  <svg xmlns=\"http://www.w3.org/2000/svg\" height=\"24px\"viewBox=\"0 0 24 24\"\n",
              "       width=\"24px\">\n",
              "    <path d=\"M7,19H8.4L18.45,9,17,7.55,7,17.6ZM5,21V16.75L18.45,3.32a2,2,0,0,1,2.83,0l1.4,1.43a1.91,1.91,0,0,1,.58,1.4,1.91,1.91,0,0,1-.58,1.4L9.25,21ZM18.45,9,17,7.55Zm-12,3A5.31,5.31,0,0,0,4.9,8.1,5.31,5.31,0,0,0,1,6.5,5.31,5.31,0,0,0,4.9,4.9,5.31,5.31,0,0,0,6.5,1,5.31,5.31,0,0,0,8.1,4.9,5.31,5.31,0,0,0,12,6.5,5.46,5.46,0,0,0,6.5,12Z\"/>\n",
              "  </svg>\n",
              "    </button>\n",
              "    <script>\n",
              "      (() => {\n",
              "      const buttonEl =\n",
              "        document.querySelector('#id_27d0cbc4-0b99-47ca-8671-16da9737beec button.colab-df-generate');\n",
              "      buttonEl.style.display =\n",
              "        google.colab.kernel.accessAllowed ? 'block' : 'none';\n",
              "\n",
              "      buttonEl.onclick = () => {\n",
              "        google.colab.notebook.generateWithVariable('X');\n",
              "      }\n",
              "      })();\n",
              "    </script>\n",
              "  </div>\n",
              "\n",
              "    </div>\n",
              "  </div>\n"
            ],
            "application/vnd.google.colaboratory.intrinsic+json": {
              "type": "dataframe",
              "variable_name": "X",
              "summary": "{\n  \"name\": \"X\",\n  \"rows\": 891,\n  \"fields\": [\n    {\n      \"column\": \"Survived\",\n      \"properties\": {\n        \"dtype\": \"number\",\n        \"std\": 0,\n        \"min\": 0,\n        \"max\": 1,\n        \"num_unique_values\": 2,\n        \"samples\": [\n          1,\n          0\n        ],\n        \"semantic_type\": \"\",\n        \"description\": \"\"\n      }\n    },\n    {\n      \"column\": \"Pclass\",\n      \"properties\": {\n        \"dtype\": \"number\",\n        \"std\": 0,\n        \"min\": 1,\n        \"max\": 3,\n        \"num_unique_values\": 3,\n        \"samples\": [\n          3,\n          1\n        ],\n        \"semantic_type\": \"\",\n        \"description\": \"\"\n      }\n    },\n    {\n      \"column\": \"Sex\",\n      \"properties\": {\n        \"dtype\": \"number\",\n        \"std\": 0,\n        \"min\": 0,\n        \"max\": 1,\n        \"num_unique_values\": 2,\n        \"samples\": [\n          1,\n          0\n        ],\n        \"semantic_type\": \"\",\n        \"description\": \"\"\n      }\n    },\n    {\n      \"column\": \"Age\",\n      \"properties\": {\n        \"dtype\": \"number\",\n        \"std\": 14.526497332334042,\n        \"min\": 0.42,\n        \"max\": 80.0,\n        \"num_unique_values\": 88,\n        \"samples\": [\n          0.75,\n          22.0\n        ],\n        \"semantic_type\": \"\",\n        \"description\": \"\"\n      }\n    },\n    {\n      \"column\": \"SibSp\",\n      \"properties\": {\n        \"dtype\": \"number\",\n        \"std\": 1,\n        \"min\": 0,\n        \"max\": 8,\n        \"num_unique_values\": 7,\n        \"samples\": [\n          1,\n          0\n        ],\n        \"semantic_type\": \"\",\n        \"description\": \"\"\n      }\n    },\n    {\n      \"column\": \"Parch\",\n      \"properties\": {\n        \"dtype\": \"number\",\n        \"std\": 0,\n        \"min\": 0,\n        \"max\": 6,\n        \"num_unique_values\": 7,\n        \"samples\": [\n          0,\n          1\n        ],\n        \"semantic_type\": \"\",\n        \"description\": \"\"\n      }\n    },\n    {\n      \"column\": \"Fare\",\n      \"properties\": {\n        \"dtype\": \"number\",\n        \"std\": 49.6934285971809,\n        \"min\": 0.0,\n        \"max\": 512.3292,\n        \"num_unique_values\": 248,\n        \"samples\": [\n          11.2417,\n          51.8625\n        ],\n        \"semantic_type\": \"\",\n        \"description\": \"\"\n      }\n    },\n    {\n      \"column\": \"Embarked_Q\",\n      \"properties\": {\n        \"dtype\": \"boolean\",\n        \"num_unique_values\": 2,\n        \"samples\": [\n          true,\n          false\n        ],\n        \"semantic_type\": \"\",\n        \"description\": \"\"\n      }\n    },\n    {\n      \"column\": \"Embarked_S\",\n      \"properties\": {\n        \"dtype\": \"boolean\",\n        \"num_unique_values\": 2,\n        \"samples\": [\n          false,\n          true\n        ],\n        \"semantic_type\": \"\",\n        \"description\": \"\"\n      }\n    }\n  ]\n}"
            }
          },
          "metadata": {},
          "execution_count": 161
        }
      ],
      "source": [
        "X"
      ]
    },
    {
      "cell_type": "code",
      "execution_count": 162,
      "id": "11a5cedf",
      "metadata": {
        "execution": {
          "iopub.execute_input": "2024-01-25T21:39:33.573639Z",
          "iopub.status.busy": "2024-01-25T21:39:33.573294Z",
          "iopub.status.idle": "2024-01-25T21:39:33.581301Z",
          "shell.execute_reply": "2024-01-25T21:39:33.580267Z"
        },
        "papermill": {
          "duration": 0.02679,
          "end_time": "2024-01-25T21:39:33.583070",
          "exception": false,
          "start_time": "2024-01-25T21:39:33.556280",
          "status": "completed"
        },
        "tags": [],
        "colab": {
          "base_uri": "https://localhost:8080/"
        },
        "id": "11a5cedf",
        "outputId": "3d291e8b-d52b-40c5-8e86-df955800610b"
      },
      "outputs": [
        {
          "output_type": "execute_result",
          "data": {
            "text/plain": [
              "Survived        0\n",
              "Pclass          0\n",
              "Sex             0\n",
              "Age           177\n",
              "SibSp           0\n",
              "Parch           0\n",
              "Fare            0\n",
              "Embarked_Q      0\n",
              "Embarked_S      0\n",
              "dtype: int64"
            ]
          },
          "metadata": {},
          "execution_count": 162
        }
      ],
      "source": [
        "X.isnull().sum()"
      ]
    },
    {
      "cell_type": "markdown",
      "id": "722df562",
      "metadata": {
        "papermill": {
          "duration": 0.015613,
          "end_time": "2024-01-25T21:39:33.614389",
          "exception": false,
          "start_time": "2024-01-25T21:39:33.598776",
          "status": "completed"
        },
        "tags": [],
        "id": "722df562"
      },
      "source": [
        "# Create Model"
      ]
    },
    {
      "cell_type": "code",
      "execution_count": 163,
      "id": "f08f28d1",
      "metadata": {
        "execution": {
          "iopub.execute_input": "2024-01-25T21:39:33.647992Z",
          "iopub.status.busy": "2024-01-25T21:39:33.647219Z",
          "iopub.status.idle": "2024-01-25T21:39:33.653517Z",
          "shell.execute_reply": "2024-01-25T21:39:33.652104Z"
        },
        "papermill": {
          "duration": 0.02573,
          "end_time": "2024-01-25T21:39:33.655913",
          "exception": false,
          "start_time": "2024-01-25T21:39:33.630183",
          "status": "completed"
        },
        "tags": [],
        "id": "f08f28d1"
      },
      "outputs": [],
      "source": [
        "y=X.Survived\n",
        "X.drop(['Survived'],axis=1,inplace=True)"
      ]
    },
    {
      "cell_type": "code",
      "execution_count": 164,
      "id": "b745831a",
      "metadata": {
        "execution": {
          "iopub.execute_input": "2024-01-25T21:39:33.688143Z",
          "iopub.status.busy": "2024-01-25T21:39:33.687781Z",
          "iopub.status.idle": "2024-01-25T21:39:33.695017Z",
          "shell.execute_reply": "2024-01-25T21:39:33.694109Z"
        },
        "papermill": {
          "duration": 0.025261,
          "end_time": "2024-01-25T21:39:33.696870",
          "exception": false,
          "start_time": "2024-01-25T21:39:33.671609",
          "status": "completed"
        },
        "tags": [],
        "id": "b745831a"
      },
      "outputs": [],
      "source": [
        "X_train,X_valid,y_train,y_valid=train_test_split(X,y,test_size=0.2)"
      ]
    },
    {
      "cell_type": "code",
      "execution_count": 165,
      "id": "3e6fd716",
      "metadata": {
        "execution": {
          "iopub.execute_input": "2024-01-25T21:39:33.729745Z",
          "iopub.status.busy": "2024-01-25T21:39:33.729214Z",
          "iopub.status.idle": "2024-01-25T21:39:33.741337Z",
          "shell.execute_reply": "2024-01-25T21:39:33.740420Z"
        },
        "papermill": {
          "duration": 0.03061,
          "end_time": "2024-01-25T21:39:33.743250",
          "exception": false,
          "start_time": "2024-01-25T21:39:33.712640",
          "status": "completed"
        },
        "tags": [],
        "id": "3e6fd716"
      },
      "outputs": [],
      "source": [
        "scaler = StandardScaler()\n",
        "X_train = scaler.fit_transform(X_train)\n",
        "X_valid = scaler.transform(X_valid)"
      ]
    },
    {
      "cell_type": "code",
      "execution_count": 166,
      "id": "d96f44c6",
      "metadata": {
        "execution": {
          "iopub.execute_input": "2024-01-25T21:39:33.776780Z",
          "iopub.status.busy": "2024-01-25T21:39:33.776058Z",
          "iopub.status.idle": "2024-01-25T21:39:33.781791Z",
          "shell.execute_reply": "2024-01-25T21:39:33.780787Z"
        },
        "papermill": {
          "duration": 0.024399,
          "end_time": "2024-01-25T21:39:33.783552",
          "exception": false,
          "start_time": "2024-01-25T21:39:33.759153",
          "status": "completed"
        },
        "tags": [],
        "id": "d96f44c6"
      },
      "outputs": [],
      "source": [
        "Models={\n",
        "    'LogisticRegression':LogisticRegression(),\n",
        "    'RandomForestClassifier':RandomForestClassifier(),\n",
        "    'DecisionTreeClassifier':DecisionTreeClassifier(),\n",
        "    'GradientBoostingClassifier':GradientBoostingClassifier(),\n",
        "    'KNeighborsClassifier':KNeighborsClassifier(),\n",
        "    'GaussianNB':GaussianNB(),\n",
        "    'SVM':SVC()\n",
        "}"
      ]
    },
    {
      "cell_type": "code",
      "execution_count": 167,
      "id": "feadcd1b",
      "metadata": {
        "execution": {
          "iopub.execute_input": "2024-01-25T21:39:33.817527Z",
          "iopub.status.busy": "2024-01-25T21:39:33.816378Z",
          "iopub.status.idle": "2024-01-25T21:39:33.820975Z",
          "shell.execute_reply": "2024-01-25T21:39:33.820409Z"
        },
        "papermill": {
          "duration": 0.023785,
          "end_time": "2024-01-25T21:39:33.823299",
          "exception": false,
          "start_time": "2024-01-25T21:39:33.799514",
          "status": "completed"
        },
        "tags": [],
        "id": "feadcd1b"
      },
      "outputs": [],
      "source": [
        "def get_score(model,X_train,y_train,X_test,y_test):\n",
        "    model.fit(X_train,y_train)\n",
        "    pred=model.predict(X_test)\n",
        "    accuracy= accuracy_score(pred,y_test)\n",
        "    return (accuracy)"
      ]
    },
    {
      "cell_type": "code",
      "source": [
        "from sklearn.impute import SimpleImputer\n",
        "\n",
        "imputer = SimpleImputer(strategy=\"mean\")\n",
        "\n",
        "X_train = imputer.fit_transform(X_train)\n",
        "X_valid = imputer.transform(X_valid)"
      ],
      "metadata": {
        "id": "YPiTJ6quYRzK"
      },
      "id": "YPiTJ6quYRzK",
      "execution_count": 169,
      "outputs": []
    },
    {
      "cell_type": "code",
      "source": [
        "from sklearn.ensemble import HistGradientBoostingClassifier\n",
        "\n",
        "model = HistGradientBoostingClassifier()\n",
        "model.fit(X_train, y_train)\n",
        "accuracy = model.score(X_valid, y_valid)\n",
        "print(\"Accuracy:\", accuracy)"
      ],
      "metadata": {
        "colab": {
          "base_uri": "https://localhost:8080/"
        },
        "id": "2GAP_SzuYUtI",
        "outputId": "43e731da-6fbb-4917-ccfb-302168a1ddc2"
      },
      "id": "2GAP_SzuYUtI",
      "execution_count": 170,
      "outputs": [
        {
          "output_type": "stream",
          "name": "stdout",
          "text": [
            "Accuracy: 0.8100558659217877\n"
          ]
        }
      ]
    },
    {
      "cell_type": "markdown",
      "id": "06516fc3",
      "metadata": {
        "papermill": {
          "duration": 0.015006,
          "end_time": "2024-01-25T21:39:34.326439",
          "exception": false,
          "start_time": "2024-01-25T21:39:34.311433",
          "status": "completed"
        },
        "tags": [],
        "id": "06516fc3"
      },
      "source": [
        "- **We can see that the best model is SVM**"
      ]
    },
    {
      "cell_type": "markdown",
      "id": "f7cd2849",
      "metadata": {
        "papermill": {
          "duration": 0.014654,
          "end_time": "2024-01-25T21:39:34.356170",
          "exception": false,
          "start_time": "2024-01-25T21:39:34.341516",
          "status": "completed"
        },
        "tags": [],
        "id": "f7cd2849"
      },
      "source": [
        "# Creat Neural_network"
      ]
    },
    {
      "cell_type": "code",
      "execution_count": 171,
      "id": "111c79a4",
      "metadata": {
        "execution": {
          "iopub.execute_input": "2024-01-25T21:39:34.388362Z",
          "iopub.status.busy": "2024-01-25T21:39:34.387585Z",
          "iopub.status.idle": "2024-01-25T21:39:51.407194Z",
          "shell.execute_reply": "2024-01-25T21:39:51.405289Z"
        },
        "papermill": {
          "duration": 17.038608,
          "end_time": "2024-01-25T21:39:51.409877",
          "exception": false,
          "start_time": "2024-01-25T21:39:34.371269",
          "status": "completed"
        },
        "tags": [],
        "colab": {
          "base_uri": "https://localhost:8080/"
        },
        "id": "111c79a4",
        "outputId": "6112fc18-c57d-4402-c7ab-45a3a5027ad0"
      },
      "outputs": [
        {
          "output_type": "stream",
          "name": "stdout",
          "text": [
            "Epoch 1/50\n",
            "23/23 [==============================] - 3s 33ms/step - loss: 0.6253 - accuracy: 0.6826 - val_loss: 0.5764 - val_accuracy: 0.7542\n",
            "Epoch 2/50\n",
            "23/23 [==============================] - 0s 8ms/step - loss: 0.5256 - accuracy: 0.8090 - val_loss: 0.5017 - val_accuracy: 0.7654\n",
            "Epoch 3/50\n",
            "23/23 [==============================] - 0s 12ms/step - loss: 0.4711 - accuracy: 0.8174 - val_loss: 0.4675 - val_accuracy: 0.7933\n",
            "Epoch 4/50\n",
            "23/23 [==============================] - 0s 11ms/step - loss: 0.4467 - accuracy: 0.8048 - val_loss: 0.4478 - val_accuracy: 0.7933\n",
            "Epoch 5/50\n",
            "23/23 [==============================] - 0s 12ms/step - loss: 0.4342 - accuracy: 0.8104 - val_loss: 0.4371 - val_accuracy: 0.7933\n",
            "Epoch 6/50\n",
            "23/23 [==============================] - 0s 16ms/step - loss: 0.4249 - accuracy: 0.8132 - val_loss: 0.4262 - val_accuracy: 0.7933\n",
            "Epoch 7/50\n",
            "23/23 [==============================] - 0s 12ms/step - loss: 0.4183 - accuracy: 0.8202 - val_loss: 0.4215 - val_accuracy: 0.7877\n",
            "Epoch 8/50\n",
            "23/23 [==============================] - 0s 6ms/step - loss: 0.4154 - accuracy: 0.8272 - val_loss: 0.4183 - val_accuracy: 0.7933\n",
            "Epoch 9/50\n",
            "23/23 [==============================] - 0s 7ms/step - loss: 0.4101 - accuracy: 0.8258 - val_loss: 0.4164 - val_accuracy: 0.7989\n",
            "Epoch 10/50\n",
            "23/23 [==============================] - 0s 6ms/step - loss: 0.4066 - accuracy: 0.8385 - val_loss: 0.4181 - val_accuracy: 0.7821\n",
            "Epoch 11/50\n",
            "23/23 [==============================] - 0s 10ms/step - loss: 0.4045 - accuracy: 0.8399 - val_loss: 0.4168 - val_accuracy: 0.7765\n",
            "Epoch 12/50\n",
            "23/23 [==============================] - 0s 14ms/step - loss: 0.4003 - accuracy: 0.8427 - val_loss: 0.4142 - val_accuracy: 0.7765\n",
            "Epoch 13/50\n",
            "23/23 [==============================] - 0s 11ms/step - loss: 0.3971 - accuracy: 0.8427 - val_loss: 0.4067 - val_accuracy: 0.7933\n",
            "Epoch 14/50\n",
            "23/23 [==============================] - 0s 16ms/step - loss: 0.3941 - accuracy: 0.8469 - val_loss: 0.4073 - val_accuracy: 0.7989\n",
            "Epoch 15/50\n",
            "23/23 [==============================] - 0s 14ms/step - loss: 0.3926 - accuracy: 0.8441 - val_loss: 0.4136 - val_accuracy: 0.7933\n",
            "Epoch 16/50\n",
            "23/23 [==============================] - 0s 10ms/step - loss: 0.3907 - accuracy: 0.8497 - val_loss: 0.4115 - val_accuracy: 0.7989\n",
            "Epoch 17/50\n",
            "23/23 [==============================] - 0s 11ms/step - loss: 0.3891 - accuracy: 0.8483 - val_loss: 0.4073 - val_accuracy: 0.7989\n",
            "Epoch 18/50\n",
            "23/23 [==============================] - 1s 34ms/step - loss: 0.3870 - accuracy: 0.8497 - val_loss: 0.4033 - val_accuracy: 0.8045\n",
            "Epoch 19/50\n",
            "23/23 [==============================] - 0s 19ms/step - loss: 0.3858 - accuracy: 0.8525 - val_loss: 0.4054 - val_accuracy: 0.8045\n",
            "Epoch 20/50\n",
            "23/23 [==============================] - 0s 6ms/step - loss: 0.3839 - accuracy: 0.8511 - val_loss: 0.4047 - val_accuracy: 0.7989\n",
            "Epoch 21/50\n",
            "23/23 [==============================] - 0s 9ms/step - loss: 0.3833 - accuracy: 0.8525 - val_loss: 0.4035 - val_accuracy: 0.8156\n",
            "Epoch 22/50\n",
            "23/23 [==============================] - 0s 6ms/step - loss: 0.3837 - accuracy: 0.8455 - val_loss: 0.4016 - val_accuracy: 0.8045\n",
            "Epoch 23/50\n",
            "23/23 [==============================] - 0s 9ms/step - loss: 0.3806 - accuracy: 0.8469 - val_loss: 0.4048 - val_accuracy: 0.8045\n",
            "Epoch 24/50\n",
            "23/23 [==============================] - 0s 12ms/step - loss: 0.3775 - accuracy: 0.8497 - val_loss: 0.4032 - val_accuracy: 0.8156\n",
            "Epoch 25/50\n",
            "23/23 [==============================] - 0s 15ms/step - loss: 0.3753 - accuracy: 0.8567 - val_loss: 0.3981 - val_accuracy: 0.8101\n",
            "Epoch 26/50\n",
            "23/23 [==============================] - 0s 8ms/step - loss: 0.3755 - accuracy: 0.8511 - val_loss: 0.4028 - val_accuracy: 0.8045\n",
            "Epoch 27/50\n",
            "23/23 [==============================] - 0s 12ms/step - loss: 0.3735 - accuracy: 0.8525 - val_loss: 0.3965 - val_accuracy: 0.8045\n",
            "Epoch 28/50\n",
            "23/23 [==============================] - 0s 10ms/step - loss: 0.3728 - accuracy: 0.8483 - val_loss: 0.3959 - val_accuracy: 0.7989\n",
            "Epoch 29/50\n",
            "23/23 [==============================] - 0s 6ms/step - loss: 0.3702 - accuracy: 0.8567 - val_loss: 0.4025 - val_accuracy: 0.8101\n",
            "Epoch 30/50\n",
            "23/23 [==============================] - 0s 12ms/step - loss: 0.3690 - accuracy: 0.8539 - val_loss: 0.3961 - val_accuracy: 0.7933\n",
            "Epoch 31/50\n",
            "23/23 [==============================] - 0s 8ms/step - loss: 0.3681 - accuracy: 0.8539 - val_loss: 0.4016 - val_accuracy: 0.8101\n",
            "Epoch 32/50\n",
            "23/23 [==============================] - 0s 4ms/step - loss: 0.3696 - accuracy: 0.8483 - val_loss: 0.3985 - val_accuracy: 0.8101\n",
            "Epoch 33/50\n",
            "23/23 [==============================] - 0s 3ms/step - loss: 0.3662 - accuracy: 0.8553 - val_loss: 0.3995 - val_accuracy: 0.8101\n",
            "Epoch 34/50\n",
            "23/23 [==============================] - 0s 3ms/step - loss: 0.3659 - accuracy: 0.8567 - val_loss: 0.3941 - val_accuracy: 0.7989\n",
            "Epoch 35/50\n",
            "23/23 [==============================] - 0s 4ms/step - loss: 0.3635 - accuracy: 0.8553 - val_loss: 0.3967 - val_accuracy: 0.8101\n",
            "Epoch 36/50\n",
            "23/23 [==============================] - 0s 4ms/step - loss: 0.3622 - accuracy: 0.8539 - val_loss: 0.3963 - val_accuracy: 0.8101\n",
            "Epoch 37/50\n",
            "23/23 [==============================] - 0s 4ms/step - loss: 0.3602 - accuracy: 0.8581 - val_loss: 0.3981 - val_accuracy: 0.8101\n",
            "Epoch 38/50\n",
            "23/23 [==============================] - 0s 4ms/step - loss: 0.3601 - accuracy: 0.8539 - val_loss: 0.3993 - val_accuracy: 0.8101\n",
            "Epoch 39/50\n",
            "23/23 [==============================] - 0s 3ms/step - loss: 0.3588 - accuracy: 0.8596 - val_loss: 0.3939 - val_accuracy: 0.8045\n",
            "Epoch 40/50\n",
            "23/23 [==============================] - 0s 4ms/step - loss: 0.3617 - accuracy: 0.8553 - val_loss: 0.4076 - val_accuracy: 0.8045\n",
            "Epoch 41/50\n",
            "23/23 [==============================] - 0s 4ms/step - loss: 0.3557 - accuracy: 0.8553 - val_loss: 0.3934 - val_accuracy: 0.8045\n",
            "Epoch 42/50\n",
            "23/23 [==============================] - 0s 4ms/step - loss: 0.3549 - accuracy: 0.8553 - val_loss: 0.3981 - val_accuracy: 0.8101\n",
            "Epoch 43/50\n",
            "23/23 [==============================] - 0s 4ms/step - loss: 0.3539 - accuracy: 0.8610 - val_loss: 0.3938 - val_accuracy: 0.8045\n",
            "Epoch 44/50\n",
            "23/23 [==============================] - 0s 4ms/step - loss: 0.3543 - accuracy: 0.8567 - val_loss: 0.3970 - val_accuracy: 0.8156\n",
            "Epoch 45/50\n",
            "23/23 [==============================] - 0s 4ms/step - loss: 0.3531 - accuracy: 0.8553 - val_loss: 0.4036 - val_accuracy: 0.8045\n",
            "Epoch 46/50\n",
            "23/23 [==============================] - 0s 4ms/step - loss: 0.3516 - accuracy: 0.8596 - val_loss: 0.4029 - val_accuracy: 0.8101\n",
            "Epoch 47/50\n",
            "23/23 [==============================] - 0s 3ms/step - loss: 0.3493 - accuracy: 0.8596 - val_loss: 0.4007 - val_accuracy: 0.8045\n",
            "Epoch 48/50\n",
            "23/23 [==============================] - 0s 3ms/step - loss: 0.3503 - accuracy: 0.8596 - val_loss: 0.3995 - val_accuracy: 0.8101\n",
            "Epoch 49/50\n",
            "23/23 [==============================] - 0s 4ms/step - loss: 0.3501 - accuracy: 0.8581 - val_loss: 0.3976 - val_accuracy: 0.8045\n",
            "Epoch 50/50\n",
            "23/23 [==============================] - 0s 4ms/step - loss: 0.3468 - accuracy: 0.8539 - val_loss: 0.4046 - val_accuracy: 0.8156\n"
          ]
        },
        {
          "output_type": "execute_result",
          "data": {
            "text/plain": [
              "<keras.src.callbacks.History at 0x7b5cdf054d90>"
            ]
          },
          "metadata": {},
          "execution_count": 171
        }
      ],
      "source": [
        "from keras import layers,models\n",
        "neural_network=models.Sequential([\n",
        "    layers.Dense(units=64,activation='relu',input_dim=X_train.shape[1]),\n",
        "    layers.Dense(units=32,activation='relu'),\n",
        "    layers.Dense(units=1,activation='sigmoid')\n",
        "])\n",
        "neural_network.compile(optimizer='adam',loss='binary_crossentropy',metrics=['accuracy'])\n",
        "neural_network.fit(\n",
        "    X_train,y_train,\n",
        "    epochs=50,\n",
        "    validation_data=(X_valid,y_valid),\n",
        "    batch_size=32\n",
        ")"
      ]
    }
  ],
  "metadata": {
    "kaggle": {
      "accelerator": "none",
      "dataSources": [
        {
          "databundleVersionId": 26502,
          "sourceId": 3136,
          "sourceType": "competition"
        }
      ],
      "dockerImageVersionId": 30635,
      "isGpuEnabled": false,
      "isInternetEnabled": true,
      "language": "python",
      "sourceType": "notebook"
    },
    "kernelspec": {
      "display_name": "Python 3",
      "language": "python",
      "name": "python3"
    },
    "language_info": {
      "codemirror_mode": {
        "name": "ipython",
        "version": 3
      },
      "file_extension": ".py",
      "mimetype": "text/x-python",
      "name": "python",
      "nbconvert_exporter": "python",
      "pygments_lexer": "ipython3",
      "version": "3.12.2"
    },
    "papermill": {
      "default_parameters": {},
      "duration": 29.140864,
      "end_time": "2024-01-25T21:39:55.044762",
      "environment_variables": {},
      "exception": null,
      "input_path": "__notebook__.ipynb",
      "output_path": "__notebook__.ipynb",
      "parameters": {},
      "start_time": "2024-01-25T21:39:25.903898",
      "version": "2.4.0"
    },
    "colab": {
      "provenance": []
    }
  },
  "nbformat": 4,
  "nbformat_minor": 5
}